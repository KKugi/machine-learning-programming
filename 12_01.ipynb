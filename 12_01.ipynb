{
  "nbformat": 4,
  "nbformat_minor": 0,
  "metadata": {
    "colab": {
      "name": "12_01.ipynb",
      "provenance": [],
      "collapsed_sections": [],
      "authorship_tag": "ABX9TyNDF4lU5+OzW+fCPkKbjlfB",
      "include_colab_link": true
    },
    "kernelspec": {
      "name": "python3",
      "display_name": "Python 3"
    },
    "language_info": {
      "name": "python"
    },
    "accelerator": "GPU"
  },
  "cells": [
    {
      "cell_type": "markdown",
      "metadata": {
        "id": "view-in-github",
        "colab_type": "text"
      },
      "source": [
        "<a href=\"https://colab.research.google.com/github/KKugi/machine-learning-programming/blob/main/12_01.ipynb\" target=\"_parent\"><img src=\"https://colab.research.google.com/assets/colab-badge.svg\" alt=\"Open In Colab\"/></a>"
      ]
    },
    {
      "cell_type": "code",
      "metadata": {
        "id": "IImJvVOqNJF5"
      },
      "source": [
        "import numpy as np\n",
        "import matplotlib.pyplot as plt\n",
        "from sklearn.preprocessing import MinMaxScaler"
      ],
      "execution_count": null,
      "outputs": []
    },
    {
      "cell_type": "code",
      "metadata": {
        "id": "6nNcgEHPefb0",
        "colab": {
          "base_uri": "https://localhost:8080/"
        },
        "outputId": "b3954372-8499-4c36-e313-3e7dbddd6fcf"
      },
      "source": [
        "yr = np.array([15,30,23,5,9,43,33,29,3,56])\n",
        "n_rooms = np.array([2,4,3,4,4,3,3,1,1,2])\n",
        "print(yr.shape)\n",
        "print(n_rooms.shape)"
      ],
      "execution_count": null,
      "outputs": [
        {
          "output_type": "stream",
          "name": "stdout",
          "text": [
            "(10,)\n",
            "(10,)\n"
          ]
        }
      ]
    },
    {
      "cell_type": "code",
      "metadata": {
        "colab": {
          "base_uri": "https://localhost:8080/"
        },
        "id": "bQbpzKgDetec",
        "outputId": "40350397-2020-4f78-e7af-534a6627f1d4"
      },
      "source": [
        "min_max_scaler = MinMaxScaler()\n",
        "yr_norm = min_max_scaler.fit_transform(yr[:,np.newaxis])\n",
        "n_rooms_norm = min_max_scaler.fit_transform(n_rooms[:,np.newaxis])\n",
        "print(yr_norm.shape)\n",
        "print(n_rooms_norm.shape)\n",
        "print(yr_norm)\n",
        "print(n_rooms_norm)"
      ],
      "execution_count": null,
      "outputs": [
        {
          "output_type": "stream",
          "name": "stdout",
          "text": [
            "(10, 1)\n",
            "(10, 1)\n",
            "[[0.22641509]\n",
            " [0.50943396]\n",
            " [0.37735849]\n",
            " [0.03773585]\n",
            " [0.11320755]\n",
            " [0.75471698]\n",
            " [0.56603774]\n",
            " [0.49056604]\n",
            " [0.        ]\n",
            " [1.        ]]\n",
            "[[0.33333333]\n",
            " [1.        ]\n",
            " [0.66666667]\n",
            " [1.        ]\n",
            " [1.        ]\n",
            " [0.66666667]\n",
            " [0.66666667]\n",
            " [0.        ]\n",
            " [0.        ]\n",
            " [0.33333333]]\n"
          ]
        }
      ]
    },
    {
      "cell_type": "code",
      "metadata": {
        "colab": {
          "base_uri": "https://localhost:8080/",
          "height": 297
        },
        "id": "g1U33FxSe8jh",
        "outputId": "920e4a38-e618-4148-f81e-e484da22fb48"
      },
      "source": [
        "plt.scatter(yr_norm, n_rooms_norm, c='red')\n",
        "plt.xlim(-0.1,1.1)\n",
        "plt.ylim(-0.1,1.1)\n",
        "plt.xlabel('year')\n",
        "plt.ylabel('num of rooms')"
      ],
      "execution_count": null,
      "outputs": [
        {
          "output_type": "execute_result",
          "data": {
            "text/plain": [
              "Text(0, 0.5, 'num of rooms')"
            ]
          },
          "metadata": {},
          "execution_count": 4
        },
        {
          "output_type": "display_data",
          "data": {
            "image/png": "[encoded data removed]",
            "text/plain": [
              "<Figure size 432x288 with 1 Axes>"
            ]
          },
          "metadata": {
            "needs_background": "light"
          }
        }
      ]
    },
    {
      "cell_type": "code",
      "metadata": {
        "id": "fmGm8xh1fpIA"
      },
      "source": [
        "import tensorflow as tf\n",
        "from tensorflow import keras\n",
        "import numpy as pd\n",
        "import matplotlib.pyplot as plt"
      ],
      "execution_count": null,
      "outputs": []
    },
    {
      "cell_type": "code",
      "metadata": {
        "id": "q-jlCSLbAFT0"
      },
      "source": [
        "mnist = tf.keras.datasets.mnist"
      ],
      "execution_count": null,
      "outputs": []
    },
    {
      "cell_type": "code",
      "metadata": {
        "id": "mNBMYSdhAM5z",
        "colab": {
          "base_uri": "https://localhost:8080/"
        },
        "outputId": "c81ec9e3-ad83-4dd9-ae8c-5e84680f909e"
      },
      "source": [
        "(X_train, y_train),(X_test, y_test) = mnist.load_data()"
      ],
      "execution_count": null,
      "outputs": [
        {
          "output_type": "stream",
          "name": "stdout",
          "text": [
            "Downloading data from https://storage.googleapis.com/tensorflow/tf-keras-datasets/mnist.npz\n",
            "11493376/11490434 [==============================] - 0s 0us/step\n",
            "11501568/11490434 [==============================] - 0s 0us/step\n"
          ]
        }
      ]
    },
    {
      "cell_type": "code",
      "metadata": {
        "id": "pF_5GyRCAa5e"
      },
      "source": [
        "X_train, X_test = X_train / 255 , X_test /255"
      ],
      "execution_count": null,
      "outputs": []
    },
    {
      "cell_type": "code",
      "metadata": {
        "id": "5XQ8Y3_KAjBS"
      },
      "source": [
        "model = keras.models.Sequential([\n",
        "    keras.layers.Flatten(input_shape = (28,28)),\n",
        "    keras.layers.Dense(64, activation='relu'),\n",
        "    keras.layers.Dense(64, activation='relu'),\n",
        "    keras.layers.Dense(64, activation='relu'),\n",
        "    keras.layers.Dense(10, activation='softmax')\n",
        "])"
      ],
      "execution_count": null,
      "outputs": []
    },
    {
      "cell_type": "code",
      "metadata": {
        "id": "mDeEph3rBFsb"
      },
      "source": [
        " model.compile(optimizer = 'adam', loss = 'sparse_categorical_crossentropy', metrics = ['accuracy'])"
      ],
      "execution_count": null,
      "outputs": []
    },
    {
      "cell_type": "code",
      "metadata": {
        "colab": {
          "base_uri": "https://localhost:8080/"
        },
        "id": "1nRZSN2_CBE3",
        "outputId": "22985568-63a4-45d5-a9f1-724510277e26"
      },
      "source": [
        "history = model.fit(X_train, y_train, epochs = 10, validation_data=(X_test, y_test))"
      ],
      "execution_count": null,
      "outputs": [
        {
          "output_type": "stream",
          "name": "stdout",
          "text": [
            "Epoch 1/10\n",
            "1875/1875 [==============================] - 8s 3ms/step - loss: 0.2753 - accuracy: 0.9181 - val_loss: 0.1435 - val_accuracy: 0.9551\n",
            "Epoch 2/10\n",
            "1875/1875 [==============================] - 6s 3ms/step - loss: 0.1223 - accuracy: 0.9640 - val_loss: 0.1159 - val_accuracy: 0.9645\n",
            "Epoch 3/10\n",
            "1875/1875 [==============================] - 6s 3ms/step - loss: 0.0924 - accuracy: 0.9715 - val_loss: 0.1008 - val_accuracy: 0.9673\n",
            "Epoch 4/10\n",
            "1875/1875 [==============================] - 6s 3ms/step - loss: 0.0751 - accuracy: 0.9765 - val_loss: 0.0968 - val_accuracy: 0.9711\n",
            "Epoch 5/10\n",
            "1875/1875 [==============================] - 7s 4ms/step - loss: 0.0614 - accuracy: 0.9809 - val_loss: 0.0934 - val_accuracy: 0.9724\n",
            "Epoch 6/10\n",
            "1875/1875 [==============================] - 6s 3ms/step - loss: 0.0527 - accuracy: 0.9833 - val_loss: 0.0877 - val_accuracy: 0.9719\n",
            "Epoch 7/10\n",
            "1875/1875 [==============================] - 7s 4ms/step - loss: 0.0454 - accuracy: 0.9859 - val_loss: 0.0948 - val_accuracy: 0.9724\n",
            "Epoch 8/10\n",
            "1875/1875 [==============================] - 7s 4ms/step - loss: 0.0391 - accuracy: 0.9872 - val_loss: 0.1006 - val_accuracy: 0.9733\n",
            "Epoch 9/10\n",
            "1875/1875 [==============================] - 7s 4ms/step - loss: 0.0354 - accuracy: 0.9883 - val_loss: 0.1029 - val_accuracy: 0.9722\n",
            "Epoch 10/10\n",
            "1875/1875 [==============================] - 6s 3ms/step - loss: 0.0330 - accuracy: 0.9893 - val_loss: 0.0918 - val_accuracy: 0.9735\n"
          ]
        }
      ]
    },
    {
      "cell_type": "code",
      "metadata": {
        "colab": {
          "base_uri": "https://localhost:8080/"
        },
        "id": "nGKaDQK-CQzx",
        "outputId": "c01f17e4-5316-49e8-8771-19ef55697508"
      },
      "source": [
        "print(\"신경망 모델의 학습 결과\")\n",
        "eval_loss, eval_acc = model.evaluate(X_test, y_test)\n",
        "print(\"test 데이터의 손실값\",eval_loss,\"test 데이터의 정확도\",eval_acc)"
      ],
      "execution_count": null,
      "outputs": [
        {
          "output_type": "stream",
          "name": "stdout",
          "text": [
            "신경망 모델의 학습 결과\n",
            "313/313 [==============================] - 1s 3ms/step - loss: 0.0918 - accuracy: 0.9735\n",
            "test 데이터의 손실값 0.09182248264551163 test 데이터의 정확도 0.9735000133514404\n"
          ]
        }
      ]
    },
    {
      "cell_type": "code",
      "metadata": {
        "colab": {
          "base_uri": "https://localhost:8080/",
          "height": 392
        },
        "id": "H8KGnJGnEpYS",
        "outputId": "b97a6afe-fd59-4f79-fc3c-15e3c12f4235"
      },
      "source": [
        "import pandas as pd\n",
        "pd.DataFrame(history.history).plot(figsize = (10, 6))"
      ],
      "execution_count": null,
      "outputs": [
        {
          "output_type": "execute_result",
          "data": {
            "text/plain": [
              "<matplotlib.axes._subplots.AxesSubplot at 0x7fe576e825d0>"
            ]
          },
          "metadata": {},
          "execution_count": 13
        },
        {
          "output_type": "display_data",
          "data": {
            "image/png": "[encoded data removed]",
            "text/plain": [
              "<Figure size 720x432 with 1 Axes>"
            ]
          },
          "metadata": {
            "needs_background": "light"
          }
        }
      ]
    },
    {
      "cell_type": "code",
      "metadata": {
        "id": "m01o1rlDFE7-"
      },
      "source": [
        "model = keras.models.Sequential([\n",
        "    keras.layers.Flatten(input_shape = (28, 28)),\n",
        "    keras.layers.Dense(64, activation = 'relu'),\n",
        "    keras.layers.Dense(64, activation = 'relu'),\n",
        "    keras.layers.Dense(64, activation = 'relu'),\n",
        "    keras.layers.Dense(64, activation = 'relu'),\n",
        "    keras.layers.Dense(64, activation = 'relu'),\n",
        "    keras.layers.Dense(64, activation = 'relu'),\n",
        "    keras.layers.Dense(10, activation = 'softmax')\n",
        "])"
      ],
      "execution_count": null,
      "outputs": []
    },
    {
      "cell_type": "code",
      "metadata": {
        "id": "mLOQShsucnbY"
      },
      "source": [
        "model.compile(optimizer='adam', loss='sparse_categorical_crossentropy', metrics=['accuracy'])"
      ],
      "execution_count": null,
      "outputs": []
    },
    {
      "cell_type": "code",
      "metadata": {
        "colab": {
          "base_uri": "https://localhost:8080/"
        },
        "id": "1kxoPH6wc-_q",
        "outputId": "ee968b21-e708-441e-825d-3fada26dd13a"
      },
      "source": [
        "history = model.fit(X_train, y_train, epochs = 10, validation_data = (X_test, y_test))"
      ],
      "execution_count": null,
      "outputs": [
        {
          "output_type": "stream",
          "name": "stdout",
          "text": [
            "Epoch 1/10\n",
            "1875/1875 [==============================] - 8s 4ms/step - loss: 0.2862 - accuracy: 0.9116 - val_loss: 0.1583 - val_accuracy: 0.9505\n",
            "Epoch 2/10\n",
            "1875/1875 [==============================] - 8s 4ms/step - loss: 0.1298 - accuracy: 0.9609 - val_loss: 0.1227 - val_accuracy: 0.9640\n",
            "Epoch 3/10\n",
            "1875/1875 [==============================] - 8s 4ms/step - loss: 0.1033 - accuracy: 0.9692 - val_loss: 0.1115 - val_accuracy: 0.9677\n",
            "Epoch 4/10\n",
            "1875/1875 [==============================] - 8s 4ms/step - loss: 0.0851 - accuracy: 0.9744 - val_loss: 0.1209 - val_accuracy: 0.9647\n",
            "Epoch 5/10\n",
            "1875/1875 [==============================] - 7s 4ms/step - loss: 0.0733 - accuracy: 0.9786 - val_loss: 0.1087 - val_accuracy: 0.9710\n",
            "Epoch 6/10\n",
            "1875/1875 [==============================] - 8s 4ms/step - loss: 0.0632 - accuracy: 0.9806 - val_loss: 0.1110 - val_accuracy: 0.9694\n",
            "Epoch 7/10\n",
            "1875/1875 [==============================] - 8s 4ms/step - loss: 0.0552 - accuracy: 0.9839 - val_loss: 0.0980 - val_accuracy: 0.9731\n",
            "Epoch 8/10\n",
            "1875/1875 [==============================] - 8s 4ms/step - loss: 0.0527 - accuracy: 0.9836 - val_loss: 0.1034 - val_accuracy: 0.9720\n",
            "Epoch 9/10\n",
            "1875/1875 [==============================] - 7s 4ms/step - loss: 0.0467 - accuracy: 0.9857 - val_loss: 0.1081 - val_accuracy: 0.9738\n",
            "Epoch 10/10\n",
            "1875/1875 [==============================] - 7s 4ms/step - loss: 0.0414 - accuracy: 0.9873 - val_loss: 0.0996 - val_accuracy: 0.9739\n"
          ]
        }
      ]
    },
    {
      "cell_type": "code",
      "metadata": {
        "id": "5NVi9iEedDhV",
        "colab": {
          "base_uri": "https://localhost:8080/"
        },
        "outputId": "5499c9be-674e-4e49-c1d5-a021d9f74e63"
      },
      "source": [
        "print('신경망 모델의 학습 결과 :')\n",
        "eval_loss, eval_acc = model.evaluate(X_test, y_test)\n",
        "print('test 데이터의 손실값', eval_loss, 'test 데이터의 정확도', eval_acc)"
      ],
      "execution_count": null,
      "outputs": [
        {
          "output_type": "stream",
          "name": "stdout",
          "text": [
            "신경망 모델의 학습 결과 :\n",
            "313/313 [==============================] - 1s 3ms/step - loss: 0.0996 - accuracy: 0.9739\n",
            "test 데이터의 손실값 0.09960810095071793 test 데이터의 정확도 0.9739000201225281\n"
          ]
        }
      ]
    },
    {
      "cell_type": "code",
      "metadata": {
        "colab": {
          "base_uri": "https://localhost:8080/",
          "height": 363
        },
        "id": "vgmq3knKtfSi",
        "outputId": "54742e3e-0a8c-4d3d-ca1c-bc67b5d922c8"
      },
      "source": [
        "pd.DataFrame(history.history)"
      ],
      "execution_count": null,
      "outputs": [
        {
          "output_type": "execute_result",
          "data": {
            "text/html": [
              "<div>\n",
              "<style scoped>\n",
              "    .dataframe tbody tr th:only-of-type {\n",
              "        vertical-align: middle;\n",
              "    }\n",
              "\n",
              "    .dataframe tbody tr th {\n",
              "        vertical-align: top;\n",
              "    }\n",
              "\n",
              "    .dataframe thead th {\n",
              "        text-align: right;\n",
              "    }\n",
              "</style>\n",
              "<table border=\"1\" class=\"dataframe\">\n",
              "  <thead>\n",
              "    <tr style=\"text-align: right;\">\n",
              "      <th></th>\n",
              "      <th>loss</th>\n",
              "      <th>accuracy</th>\n",
              "      <th>val_loss</th>\n",
              "      <th>val_accuracy</th>\n",
              "    </tr>\n",
              "  </thead>\n",
              "  <tbody>\n",
              "    <tr>\n",
              "      <th>0</th>\n",
              "      <td>0.286198</td>\n",
              "      <td>0.911567</td>\n",
              "      <td>0.158333</td>\n",
              "      <td>0.9505</td>\n",
              "    </tr>\n",
              "    <tr>\n",
              "      <th>1</th>\n",
              "      <td>0.129845</td>\n",
              "      <td>0.960917</td>\n",
              "      <td>0.122686</td>\n",
              "      <td>0.9640</td>\n",
              "    </tr>\n",
              "    <tr>\n",
              "      <th>2</th>\n",
              "      <td>0.103301</td>\n",
              "      <td>0.969233</td>\n",
              "      <td>0.111512</td>\n",
              "      <td>0.9677</td>\n",
              "    </tr>\n",
              "    <tr>\n",
              "      <th>3</th>\n",
              "      <td>0.085081</td>\n",
              "      <td>0.974417</td>\n",
              "      <td>0.120858</td>\n",
              "      <td>0.9647</td>\n",
              "    </tr>\n",
              "    <tr>\n",
              "      <th>4</th>\n",
              "      <td>0.073294</td>\n",
              "      <td>0.978650</td>\n",
              "      <td>0.108692</td>\n",
              "      <td>0.9710</td>\n",
              "    </tr>\n",
              "    <tr>\n",
              "      <th>5</th>\n",
              "      <td>0.063196</td>\n",
              "      <td>0.980617</td>\n",
              "      <td>0.111022</td>\n",
              "      <td>0.9694</td>\n",
              "    </tr>\n",
              "    <tr>\n",
              "      <th>6</th>\n",
              "      <td>0.055179</td>\n",
              "      <td>0.983883</td>\n",
              "      <td>0.097960</td>\n",
              "      <td>0.9731</td>\n",
              "    </tr>\n",
              "    <tr>\n",
              "      <th>7</th>\n",
              "      <td>0.052701</td>\n",
              "      <td>0.983600</td>\n",
              "      <td>0.103436</td>\n",
              "      <td>0.9720</td>\n",
              "    </tr>\n",
              "    <tr>\n",
              "      <th>8</th>\n",
              "      <td>0.046712</td>\n",
              "      <td>0.985683</td>\n",
              "      <td>0.108076</td>\n",
              "      <td>0.9738</td>\n",
              "    </tr>\n",
              "    <tr>\n",
              "      <th>9</th>\n",
              "      <td>0.041387</td>\n",
              "      <td>0.987300</td>\n",
              "      <td>0.099608</td>\n",
              "      <td>0.9739</td>\n",
              "    </tr>\n",
              "  </tbody>\n",
              "</table>\n",
              "</div>"
            ],
            "text/plain": [
              "       loss  accuracy  val_loss  val_accuracy\n",
              "0  0.286198  0.911567  0.158333        0.9505\n",
              "1  0.129845  0.960917  0.122686        0.9640\n",
              "2  0.103301  0.969233  0.111512        0.9677\n",
              "3  0.085081  0.974417  0.120858        0.9647\n",
              "4  0.073294  0.978650  0.108692        0.9710\n",
              "5  0.063196  0.980617  0.111022        0.9694\n",
              "6  0.055179  0.983883  0.097960        0.9731\n",
              "7  0.052701  0.983600  0.103436        0.9720\n",
              "8  0.046712  0.985683  0.108076        0.9738\n",
              "9  0.041387  0.987300  0.099608        0.9739"
            ]
          },
          "metadata": {},
          "execution_count": 18
        }
      ]
    },
    {
      "cell_type": "code",
      "metadata": {
        "colab": {
          "base_uri": "https://localhost:8080/",
          "height": 392
        },
        "id": "YZ_uOTM3tl4A",
        "outputId": "6ff6063a-ba09-41e3-a281-0d5a27984203"
      },
      "source": [
        "pd.DataFrame(history.history).plot(figsize = (10, 6))"
      ],
      "execution_count": null,
      "outputs": [
        {
          "output_type": "execute_result",
          "data": {
            "text/plain": [
              "<matplotlib.axes._subplots.AxesSubplot at 0x7fe57987f850>"
            ]
          },
          "metadata": {},
          "execution_count": 19
        },
        {
          "output_type": "display_data",
          "data": {
            "image/png": "[encoded data removed]",
            "text/plain": [
              "<Figure size 720x432 with 1 Axes>"
            ]
          },
          "metadata": {
            "needs_background": "light"
          }
        }
      ]
    },
    {
      "cell_type": "markdown",
      "metadata": {
        "id": "sQCbJuBdt3UP"
      },
      "source": [
        "### 드롭아웃: 학습데이터에만 최적화된 신경망 개선"
      ]
    },
    {
      "cell_type": "code",
      "metadata": {
        "colab": {
          "base_uri": "https://localhost:8080/"
        },
        "id": "X5vf64Sktqbn",
        "outputId": "b2224fb3-deb5-43a8-9159-0a2bba4c4385"
      },
      "source": [
        "data = np.arange(1,11).reshape(2,5).astype(np.float32)\n",
        "print(data)"
      ],
      "execution_count": null,
      "outputs": [
        {
          "output_type": "stream",
          "name": "stdout",
          "text": [
            "[[ 1.  2.  3.  4.  5.]\n",
            " [ 6.  7.  8.  9. 10.]]\n"
          ]
        }
      ]
    },
    {
      "cell_type": "code",
      "metadata": {
        "colab": {
          "base_uri": "https://localhost:8080/"
        },
        "id": "zHMTHUaOuG0R",
        "outputId": "c370d4c3-47a0-402c-8769-fce0ebb7c596"
      },
      "source": [
        "layer = tf.keras.layers.Dropout(.3, input_shape = (2,))\n",
        "outputs = layer(data, training = True)\n",
        "print(outputs)"
      ],
      "execution_count": null,
      "outputs": [
        {
          "output_type": "stream",
          "name": "stdout",
          "text": [
            "tf.Tensor(\n",
            "[[ 1.4285715  0.         4.285714   5.714286   7.1428576]\n",
            " [ 8.571428  10.        11.428572  12.857143  14.285715 ]], shape=(2, 5), dtype=float32)\n"
          ]
        }
      ]
    },
    {
      "cell_type": "code",
      "metadata": {
        "id": "N_paKKqquUNp"
      },
      "source": [
        "model = keras.models.Sequential([\n",
        "    keras.layers.Flatten(input_shape = (28,28)),\n",
        "    keras.layers.Dropout(0.2),\n",
        "    keras.layers.Dense(64, activation='relu'),\n",
        "    keras.layers.Dropout(0.2),\n",
        "    keras.layers.Dense(64, activation='relu'),\n",
        "    keras.layers.Dropout(0.2),\n",
        "    keras.layers.Dense(64, activation='relu'),\n",
        "    keras.layers.Dropout(0.2),\n",
        "    keras.layers.Dense(64, activation='relu'),\n",
        "    keras.layers.Dropout(0.2),\n",
        "    keras.layers.Dense(64, activation='relu'),\n",
        "    keras.layers.Dropout(0.2),\n",
        "    keras.layers.Dense(64, activation='relu'),\n",
        "    keras.layers.Dropout(0.2),\n",
        "    keras.layers.Dense(10, activation='softmax'),\n",
        "    \n",
        "])"
      ],
      "execution_count": null,
      "outputs": []
    },
    {
      "cell_type": "code",
      "metadata": {
        "colab": {
          "base_uri": "https://localhost:8080/"
        },
        "id": "yMZeviAUuU3I",
        "outputId": "027e207b-66ff-460a-a251-b7857d607b01"
      },
      "source": [
        "model.compile(optimizer='adam',loss='sparse_categorical_crossentropy',metrics=['accuracy'])\n",
        "history = model.fit(X_train,y_train,epochs=10,validation_data=(X_test,y_test))"
      ],
      "execution_count": null,
      "outputs": [
        {
          "output_type": "stream",
          "name": "stdout",
          "text": [
            "Epoch 1/10\n",
            "1875/1875 [==============================] - 9s 4ms/step - loss: 0.6882 - accuracy: 0.7861 - val_loss: 0.2230 - val_accuracy: 0.9385\n",
            "Epoch 2/10\n",
            "1875/1875 [==============================] - 8s 4ms/step - loss: 0.3533 - accuracy: 0.9079 - val_loss: 0.1871 - val_accuracy: 0.9510\n",
            "Epoch 3/10\n",
            "1875/1875 [==============================] - 8s 4ms/step - loss: 0.3039 - accuracy: 0.9218 - val_loss: 0.1700 - val_accuracy: 0.9549\n",
            "Epoch 4/10\n",
            "1875/1875 [==============================] - 8s 4ms/step - loss: 0.2788 - accuracy: 0.9274 - val_loss: 0.1505 - val_accuracy: 0.9588\n",
            "Epoch 5/10\n",
            "1875/1875 [==============================] - 8s 4ms/step - loss: 0.2561 - accuracy: 0.9329 - val_loss: 0.1526 - val_accuracy: 0.9587\n",
            "Epoch 6/10\n",
            "1875/1875 [==============================] - 8s 4ms/step - loss: 0.2429 - accuracy: 0.9365 - val_loss: 0.1416 - val_accuracy: 0.9623\n",
            "Epoch 7/10\n",
            "1875/1875 [==============================] - 8s 5ms/step - loss: 0.2363 - accuracy: 0.9396 - val_loss: 0.1267 - val_accuracy: 0.9669\n",
            "Epoch 8/10\n",
            "1875/1875 [==============================] - 8s 4ms/step - loss: 0.2211 - accuracy: 0.9427 - val_loss: 0.1369 - val_accuracy: 0.9620\n",
            "Epoch 9/10\n",
            "1875/1875 [==============================] - 9s 5ms/step - loss: 0.2183 - accuracy: 0.9431 - val_loss: 0.1196 - val_accuracy: 0.9675\n",
            "Epoch 10/10\n",
            "1875/1875 [==============================] - 8s 4ms/step - loss: 0.2103 - accuracy: 0.9456 - val_loss: 0.1237 - val_accuracy: 0.9665\n"
          ]
        }
      ]
    },
    {
      "cell_type": "code",
      "metadata": {
        "colab": {
          "base_uri": "https://localhost:8080/",
          "height": 286
        },
        "id": "6vKfF-ECwoxo",
        "outputId": "4f91abbb-79ab-4344-ea4b-11ab3a23e36c"
      },
      "source": [
        "print(\"드롭아웃 노드를 가진 다층 신경망 모델의 학습 결과 :\")\n",
        "print(model.evaluate(X_test, y_test))\n",
        "\n",
        "pd.DataFrame(history.history).plot(figsize = (5, 3))"
      ],
      "execution_count": null,
      "outputs": [
        {
          "output_type": "stream",
          "name": "stdout",
          "text": [
            "드롭아웃 노드를 가진 다층 신경망 모델의 학습 결과 :\n",
            "313/313 [==============================] - 1s 3ms/step - loss: 0.1237 - accuracy: 0.9665\n",
            "[0.12368235737085342, 0.9664999842643738]\n"
          ]
        },
        {
          "output_type": "execute_result",
          "data": {
            "text/plain": [
              "<matplotlib.axes._subplots.AxesSubplot at 0x7fe577f3e150>"
            ]
          },
          "metadata": {},
          "execution_count": 24
        },
        {
          "output_type": "display_data",
          "data": {
            "image/png": "[encoded data removed]",
            "text/plain": [
              "<Figure size 360x216 with 1 Axes>"
            ]
          },
          "metadata": {
            "needs_background": "light"
          }
        }
      ]
    },
    {
      "cell_type": "code",
      "metadata": {
        "id": "yunyNgROxTTd"
      },
      "source": [
        ""
      ],
      "execution_count": null,
      "outputs": []
    }
  ]
}