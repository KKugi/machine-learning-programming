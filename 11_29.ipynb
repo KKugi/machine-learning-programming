{
  "nbformat": 4,
  "nbformat_minor": 0,
  "metadata": {
    "colab": {
      "name": "11_29.ipynb",
      "provenance": [],
      "collapsed_sections": [],
      "authorship_tag": "ABX9TyMmeR9mtM2RNHyOXMacP8YT",
      "include_colab_link": true
    },
    "kernelspec": {
      "name": "python3",
      "display_name": "Python 3"
    },
    "language_info": {
      "name": "python"
    }
  },
  "cells": [
    {
      "cell_type": "markdown",
      "metadata": {
        "id": "view-in-github",
        "colab_type": "text"
      },
      "source": [
        "<a href=\"https://colab.research.google.com/github/KKugi/machine-learning-programming/blob/main/11_29.ipynb\" target=\"_parent\"><img src=\"https://colab.research.google.com/assets/colab-badge.svg\" alt=\"Open In Colab\"/></a>"
      ]
    },
    {
      "cell_type": "code",
      "metadata": {
        "id": "aWRWh0-czYAI"
      },
      "source": [
        "import tensorflow as tf\n",
        "from tensorflow import keras\n",
        "import pandas as pd\n",
        "import numpy as np\n",
        "import matplotlib.pyplot as plt"
      ],
      "execution_count": null,
      "outputs": []
    },
    {
      "cell_type": "code",
      "metadata": {
        "id": "EYhsSqQMzwwG"
      },
      "source": [
        "mnist = tf.keras.datasets.mnist"
      ],
      "execution_count": null,
      "outputs": []
    },
    {
      "cell_type": "code",
      "metadata": {
        "id": "7T5QwKYCz1oM",
        "colab": {
          "base_uri": "https://localhost:8080/"
        },
        "outputId": "2a1e4a96-1b73-4bf9-937c-0824afcd8976"
      },
      "source": [
        "(X_train, y_train), (X_test, y_test) = mnist.load_data()"
      ],
      "execution_count": null,
      "outputs": [
        {
          "output_type": "stream",
          "name": "stdout",
          "text": [
            "Downloading data from https://storage.googleapis.com/tensorflow/tf-keras-datasets/mnist.npz\n",
            "11493376/11490434 [==============================] - 0s 0us/step\n",
            "11501568/11490434 [==============================] - 0s 0us/step\n"
          ]
        }
      ]
    },
    {
      "cell_type": "code",
      "metadata": {
        "colab": {
          "base_uri": "https://localhost:8080/"
        },
        "id": "daG82YMXz-L9",
        "outputId": "1ba35869-c15e-4d95-9f47-15193f2d7b6b"
      },
      "source": [
        "print('X_train 데이터의 형태:',X_train.shape)\n",
        "print('X_train[0] 데이터의 형태:',X_train[0].shape)\n",
        "print('y_train 데이터의 형태:',y_train.shape)"
      ],
      "execution_count": null,
      "outputs": [
        {
          "output_type": "stream",
          "name": "stdout",
          "text": [
            "X_train 데이터의 형태: (60000, 28, 28)\n",
            "X_train[0] 데이터의 형태: (28, 28)\n",
            "y_train 데이터의 형태: (60000,)\n"
          ]
        }
      ]
    },
    {
      "cell_type": "code",
      "metadata": {
        "colab": {
          "base_uri": "https://localhost:8080/"
        },
        "id": "qvdHVyn70Xf2",
        "outputId": "a2558345-32a4-4acb-acf2-c921d23759ed"
      },
      "source": [
        "num = X_train[0]\n",
        "for i in range(28):\n",
        "    for j in range(28):\n",
        "        print('{:4d}'.format(num[i][j]), end='')\n",
        "    print()"
      ],
      "execution_count": null,
      "outputs": [
        {
          "output_type": "stream",
          "name": "stdout",
          "text": [
            "   0   0   0   0   0   0   0   0   0   0   0   0   0   0   0   0   0   0   0   0   0   0   0   0   0   0   0   0\n",
            "   0   0   0   0   0   0   0   0   0   0   0   0   0   0   0   0   0   0   0   0   0   0   0   0   0   0   0   0\n",
            "   0   0   0   0   0   0   0   0   0   0   0   0   0   0   0   0   0   0   0   0   0   0   0   0   0   0   0   0\n",
            "   0   0   0   0   0   0   0   0   0   0   0   0   0   0   0   0   0   0   0   0   0   0   0   0   0   0   0   0\n",
            "   0   0   0   0   0   0   0   0   0   0   0   0   0   0   0   0   0   0   0   0   0   0   0   0   0   0   0   0\n",
            "   0   0   0   0   0   0   0   0   0   0   0   0   3  18  18  18 126 136 175  26 166 255 247 127   0   0   0   0\n",
            "   0   0   0   0   0   0   0   0  30  36  94 154 170 253 253 253 253 253 225 172 253 242 195  64   0   0   0   0\n",
            "   0   0   0   0   0   0   0  49 238 253 253 253 253 253 253 253 253 251  93  82  82  56  39   0   0   0   0   0\n",
            "   0   0   0   0   0   0   0  18 219 253 253 253 253 253 198 182 247 241   0   0   0   0   0   0   0   0   0   0\n",
            "   0   0   0   0   0   0   0   0  80 156 107 253 253 205  11   0  43 154   0   0   0   0   0   0   0   0   0   0\n",
            "   0   0   0   0   0   0   0   0   0  14   1 154 253  90   0   0   0   0   0   0   0   0   0   0   0   0   0   0\n",
            "   0   0   0   0   0   0   0   0   0   0   0 139 253 190   2   0   0   0   0   0   0   0   0   0   0   0   0   0\n",
            "   0   0   0   0   0   0   0   0   0   0   0  11 190 253  70   0   0   0   0   0   0   0   0   0   0   0   0   0\n",
            "   0   0   0   0   0   0   0   0   0   0   0   0  35 241 225 160 108   1   0   0   0   0   0   0   0   0   0   0\n",
            "   0   0   0   0   0   0   0   0   0   0   0   0   0  81 240 253 253 119  25   0   0   0   0   0   0   0   0   0\n",
            "   0   0   0   0   0   0   0   0   0   0   0   0   0   0  45 186 253 253 150  27   0   0   0   0   0   0   0   0\n",
            "   0   0   0   0   0   0   0   0   0   0   0   0   0   0   0  16  93 252 253 187   0   0   0   0   0   0   0   0\n",
            "   0   0   0   0   0   0   0   0   0   0   0   0   0   0   0   0   0 249 253 249  64   0   0   0   0   0   0   0\n",
            "   0   0   0   0   0   0   0   0   0   0   0   0   0   0  46 130 183 253 253 207   2   0   0   0   0   0   0   0\n",
            "   0   0   0   0   0   0   0   0   0   0   0   0  39 148 229 253 253 253 250 182   0   0   0   0   0   0   0   0\n",
            "   0   0   0   0   0   0   0   0   0   0  24 114 221 253 253 253 253 201  78   0   0   0   0   0   0   0   0   0\n",
            "   0   0   0   0   0   0   0   0  23  66 213 253 253 253 253 198  81   2   0   0   0   0   0   0   0   0   0   0\n",
            "   0   0   0   0   0   0  18 171 219 253 253 253 253 195  80   9   0   0   0   0   0   0   0   0   0   0   0   0\n",
            "   0   0   0   0  55 172 226 253 253 253 253 244 133  11   0   0   0   0   0   0   0   0   0   0   0   0   0   0\n",
            "   0   0   0   0 136 253 253 253 212 135 132  16   0   0   0   0   0   0   0   0   0   0   0   0   0   0   0   0\n",
            "   0   0   0   0   0   0   0   0   0   0   0   0   0   0   0   0   0   0   0   0   0   0   0   0   0   0   0   0\n",
            "   0   0   0   0   0   0   0   0   0   0   0   0   0   0   0   0   0   0   0   0   0   0   0   0   0   0   0   0\n",
            "   0   0   0   0   0   0   0   0   0   0   0   0   0   0   0   0   0   0   0   0   0   0   0   0   0   0   0   0\n"
          ]
        }
      ]
    },
    {
      "cell_type": "code",
      "metadata": {
        "colab": {
          "base_uri": "https://localhost:8080/",
          "height": 283
        },
        "id": "AOdjLYi51WK2",
        "outputId": "1364d50f-d81b-414f-fd1b-7f4d949de07b"
      },
      "source": [
        "plt.imshow(num, cmap='Greys', interpolation='nearest')"
      ],
      "execution_count": null,
      "outputs": [
        {
          "output_type": "execute_result",
          "data": {
            "text/plain": [
              "<matplotlib.image.AxesImage at 0x7f1c811c0cd0>"
            ]
          },
          "metadata": {},
          "execution_count": 6
        },
        {
          "output_type": "display_data",
          "data": {
            "image/png": "[encoded data removed]",
            "text/plain": [
              "<Figure size 432x288 with 1 Axes>"
            ]
          },
          "metadata": {
            "needs_background": "light"
          }
        }
      ]
    },
    {
      "cell_type": "code",
      "metadata": {
        "colab": {
          "base_uri": "https://localhost:8080/"
        },
        "id": "C4sg3epW1g4F",
        "outputId": "d60ff5fc-c516-450c-d449-7791956256a2"
      },
      "source": [
        "print('y_train[0] = ',y_train[0])"
      ],
      "execution_count": null,
      "outputs": [
        {
          "output_type": "stream",
          "name": "stdout",
          "text": [
            "y_train[0] =  5\n"
          ]
        }
      ]
    },
    {
      "cell_type": "code",
      "metadata": {
        "id": "oQPcc-ls1pTH"
      },
      "source": [
        "X_trian, X_test = X_train / 255 , X_test / 255"
      ],
      "execution_count": null,
      "outputs": []
    },
    {
      "cell_type": "code",
      "metadata": {
        "id": "HRfvzfQz2NW4"
      },
      "source": [
        "model = keras.models.Sequential([\n",
        "    keras.layers.Flatten(input_shape = (28,28)),\n",
        "    keras.layers.Dense(256,activation='relu'),\n",
        "    keras.layers.Dense(10,activation='softmax'),\n",
        "])"
      ],
      "execution_count": null,
      "outputs": []
    },
    {
      "cell_type": "code",
      "metadata": {
        "id": "Q2SlzBZa2-G-"
      },
      "source": [
        "model.compile(optimizer='adam',loss='sparse_categorical_crossentropy',metrics=['accuracy'])"
      ],
      "execution_count": null,
      "outputs": []
    },
    {
      "cell_type": "code",
      "metadata": {
        "colab": {
          "base_uri": "https://localhost:8080/"
        },
        "id": "YgLNd3c43Y0H",
        "outputId": "21620d44-ef34-49f7-dd6e-44f403ff0b89"
      },
      "source": [
        "model.fit(X_train,y_train,epochs=4)"
      ],
      "execution_count": null,
      "outputs": [
        {
          "output_type": "stream",
          "name": "stdout",
          "text": [
            "Epoch 1/4\n",
            "1875/1875 [==============================] - 6s 3ms/step - loss: 0.2199 - accuracy: 0.9513\n",
            "Epoch 2/4\n",
            "1875/1875 [==============================] - 6s 3ms/step - loss: 0.1971 - accuracy: 0.9563\n",
            "Epoch 3/4\n",
            "1875/1875 [==============================] - 6s 3ms/step - loss: 0.1910 - accuracy: 0.9571\n",
            "Epoch 4/4\n",
            "1875/1875 [==============================] - 7s 4ms/step - loss: 0.1920 - accuracy: 0.9592\n"
          ]
        },
        {
          "output_type": "execute_result",
          "data": {
            "text/plain": [
              "<keras.callbacks.History at 0x7f1c7b2ea150>"
            ]
          },
          "metadata": {},
          "execution_count": 14
        }
      ]
    },
    {
      "cell_type": "markdown",
      "metadata": {
        "id": "x8zTysr4PhEg"
      },
      "source": [
        "### 12_01"
      ]
    },
    {
      "cell_type": "code",
      "metadata": {
        "id": "pFpnbKeh3e7H",
        "colab": {
          "base_uri": "https://localhost:8080/"
        },
        "outputId": "dd58aa83-c340-4715-d26f-e0ccf033ef27"
      },
      "source": [
        "model.summary()"
      ],
      "execution_count": null,
      "outputs": [
        {
          "output_type": "stream",
          "name": "stdout",
          "text": [
            "Model: \"sequential\"\n",
            "_________________________________________________________________\n",
            " Layer (type)                Output Shape              Param #   \n",
            "=================================================================\n",
            " flatten (Flatten)           (None, 784)               0         \n",
            "                                                                 \n",
            " dense (Dense)               (None, 256)               200960    \n",
            "                                                                 \n",
            " dense_1 (Dense)             (None, 10)                2570      \n",
            "                                                                 \n",
            "=================================================================\n",
            "Total params: 203,530\n",
            "Trainable params: 203,530\n",
            "Non-trainable params: 0\n",
            "_________________________________________________________________\n"
          ]
        }
      ]
    },
    {
      "cell_type": "code",
      "metadata": {
        "colab": {
          "base_uri": "https://localhost:8080/"
        },
        "id": "keW8Sd78PmXt",
        "outputId": "cf2ab2ff-c417-4544-c59f-a056b7b4e963"
      },
      "source": [
        "print(\"신경망 모델의 학습 결과: \")\n",
        "eval_loss, eval_acc = model.evaluate(X_test,y_test)\n",
        "print(\"test 데이터의 손실값\",eval_loss,'test 데이터의 정확도',eval_acc)"
      ],
      "execution_count": null,
      "outputs": [
        {
          "output_type": "stream",
          "name": "stdout",
          "text": [
            "신경망 모델의 학습 결과: \n",
            "313/313 [==============================] - 1s 2ms/step - loss: 2.3786 - accuracy: 0.1123\n",
            "test 데이터의 손실값 2.3785784244537354 test 데이터의 정확도 0.11230000108480453\n"
          ]
        }
      ]
    },
    {
      "cell_type": "code",
      "metadata": {
        "id": "AdW9diiaQe_o"
      },
      "source": [
        "import numpy as np"
      ],
      "execution_count": null,
      "outputs": []
    },
    {
      "cell_type": "code",
      "metadata": {
        "colab": {
          "base_uri": "https://localhost:8080/"
        },
        "id": "_ecPtofgSOTw",
        "outputId": "e905fcfa-8cc7-4b1f-8447-93e024ab94da"
      },
      "source": [
        "def softmax(a):\n",
        "    exp_of_a = np.exp(a)\n",
        "    sum_exp = np.sum(exp_of_a)\n",
        "    y = exp_of_a / sum_exp\n",
        "    return y\n",
        "\n",
        "a = np.array([0.5,4.1,2.5,5.6,1.2])\n",
        "print(\"신경망의 예측값: \",a)\n",
        "print(\"소프트맥스 함수의 출력: \",softmax(a))"
      ],
      "execution_count": null,
      "outputs": [
        {
          "output_type": "stream",
          "name": "stdout",
          "text": [
            "신경망의 예측값:  [0.5 4.1 2.5 5.6 1.2]\n",
            "소프트맥스 함수의 출력:  [0.00473882 0.17343248 0.03501541 0.77727047 0.00954281]\n"
          ]
        }
      ]
    },
    {
      "cell_type": "code",
      "metadata": {
        "colab": {
          "base_uri": "https://localhost:8080/"
        },
        "id": "SthR3uZySsXT",
        "outputId": "faca7c94-1228-462c-e163-0e466d820eb0"
      },
      "source": [
        "print(\"소프트맥스 함수의 최대값: \",np.max(softmax(a)))"
      ],
      "execution_count": null,
      "outputs": [
        {
          "output_type": "stream",
          "name": "stdout",
          "text": [
            "소프트맥스 함수의 최대값:  0.7772704668966948\n"
          ]
        }
      ]
    },
    {
      "cell_type": "code",
      "metadata": {
        "colab": {
          "base_uri": "https://localhost:8080/"
        },
        "id": "I2_WET3BTRQn",
        "outputId": "d766b05a-080e-459c-c964-fc0c26163ee4"
      },
      "source": [
        "a = np.array([0.5,4.1,2.5,5.6,1.2]) * 2\n",
        "print(\"신경망의 예측값: \",a)\n",
        "print(\"소프트맥스 함수의 출력: \",softmax(a))\n",
        "print(\"소프트맥스 함수의 최대값: \",np.max(softmax(a)))"
      ],
      "execution_count": null,
      "outputs": [
        {
          "output_type": "stream",
          "name": "stdout",
          "text": [
            "신경망의 예측값:  [ 1.   8.2  5.  11.2  2.4]\n",
            "소프트맥스 함수의 출력:  [3.53328547e-05 4.73259126e-02 1.92910850e-03 9.50566364e-01\n",
            " 1.43281791e-04]\n",
            "소프트맥스 함수의 최대값:  0.9505663642857384\n"
          ]
        }
      ]
    },
    {
      "cell_type": "markdown",
      "metadata": {
        "id": "GhYoYdovUpEo"
      },
      "source": [
        "- 원-핫 인코딩"
      ]
    },
    {
      "cell_type": "code",
      "metadata": {
        "id": "hLye6I0UTgst"
      },
      "source": [
        "from tensorflow.keras.utils import to_categorical"
      ],
      "execution_count": null,
      "outputs": []
    },
    {
      "cell_type": "code",
      "metadata": {
        "id": "1RWsmqwYUx40"
      },
      "source": [
        "data = np.array([0,1,2,3,4])"
      ],
      "execution_count": null,
      "outputs": []
    },
    {
      "cell_type": "code",
      "metadata": {
        "colab": {
          "base_uri": "https://localhost:8080/"
        },
        "id": "smlyh7CqVmc7",
        "outputId": "7831de0d-513f-441e-b81d-6a2f16db29bd"
      },
      "source": [
        "print(\"인코딩할 원본 데이터\",data)\n",
        "encoded = to_categorical(data)\n",
        "print('원-핫 인코딩된 데이터: ')\n",
        "print(encoded)"
      ],
      "execution_count": null,
      "outputs": [
        {
          "output_type": "stream",
          "name": "stdout",
          "text": [
            "인코딩할 원본 데이터 [0 1 2 3 4]\n",
            "원-핫 인코딩된 데이터: \n",
            "[[1. 0. 0. 0. 0.]\n",
            " [0. 1. 0. 0. 0.]\n",
            " [0. 0. 1. 0. 0.]\n",
            " [0. 0. 0. 1. 0.]\n",
            " [0. 0. 0. 0. 1.]]\n"
          ]
        }
      ]
    },
    {
      "cell_type": "code",
      "metadata": {
        "id": "IllYtrDEVyTq"
      },
      "source": [
        "# 정답이 3이 인코딩된 target과 신경망의 예측값 y_hat이 있다고 가정\n",
        "target = np.array([0,0,0,1,0])\n",
        "y_hat = np.array([0.005,0.173,0.035,0.777,0.01])"
      ],
      "execution_count": null,
      "outputs": []
    },
    {
      "cell_type": "code",
      "metadata": {
        "id": "X4stbOPMWTHt"
      },
      "source": [
        "def mse(y,t): # 평균제곱오차\n",
        "    return ((y-t)**2).mean()"
      ],
      "execution_count": null,
      "outputs": []
    },
    {
      "cell_type": "code",
      "metadata": {
        "colab": {
          "base_uri": "https://localhost:8080/"
        },
        "id": "dbAKFGEvWkKV",
        "outputId": "641bffcd-56a4-40f5-e368-b88cc3c7447e"
      },
      "source": [
        "print('y_hat과 target과의 오차: ',mse(y_hat, target))"
      ],
      "execution_count": null,
      "outputs": [
        {
          "output_type": "stream",
          "name": "stdout",
          "text": [
            "y_hat과 target과의 오차:  0.016201599999999997\n"
          ]
        }
      ]
    },
    {
      "cell_type": "code",
      "metadata": {
        "id": "yicBWJk_WuGC"
      },
      "source": [
        "# 정답에서 많이 벗어난 other_y_hat 추정치\n",
        "other_y_hat = np.array([0.2, 0.3, 0.4, 0.01, 0.09])"
      ],
      "execution_count": null,
      "outputs": []
    },
    {
      "cell_type": "code",
      "metadata": {
        "colab": {
          "base_uri": "https://localhost:8080/"
        },
        "id": "0P5CS4M_X16x",
        "outputId": "8e7a13f0-111f-4e80-957b-bd3561a37915"
      },
      "source": [
        "print('other_y_hat과 target과의 오차: ',mse(other_y_hat, target))"
      ],
      "execution_count": null,
      "outputs": [
        {
          "output_type": "stream",
          "name": "stdout",
          "text": [
            "other_y_hat과 target과의 오차:  0.25564\n"
          ]
        }
      ]
    },
    {
      "cell_type": "code",
      "metadata": {
        "id": "L3hwM5NeX_qg"
      },
      "source": [
        "# 교차 엔트로피 함수를 에러 함수로 사용\n",
        "def cee(y, t):\n",
        "    delta = 1e-7\n",
        "    return -np.sum(t*np.log(y+delta))"
      ],
      "execution_count": null,
      "outputs": []
    },
    {
      "cell_type": "code",
      "metadata": {
        "id": "UwH_GnxZbnmD"
      },
      "source": [
        "t = np.array([0,0,1])\n",
        "y_hat1 = np.array([0.4,0.05,0.55])\n",
        "y_hat2 = np.array([0.9,0.09,0.01])"
      ],
      "execution_count": null,
      "outputs": []
    },
    {
      "cell_type": "code",
      "metadata": {
        "colab": {
          "base_uri": "https://localhost:8080/"
        },
        "id": "XLxggEqZcKFb",
        "outputId": "a1eacff9-e714-4f79-aeae-7a2096aa2485"
      },
      "source": [
        "# y_hat 추정치와 정답과의 오차\n",
        "print('y_hat1과 cee: {:.2f}'.format(cee(y_hat1,t)))\n",
        "print('y_hat2과 cee: {:.2f}'.format(cee(y_hat2,t)))\n",
        "print('두 값의 비 : {:.2f}'.format(cee(y_hat2,t) / cee(y_hat1,t)))"
      ],
      "execution_count": null,
      "outputs": [
        {
          "output_type": "stream",
          "name": "stdout",
          "text": [
            "y_hat1과 cee: 0.60\n",
            "y_hat2과 cee: 4.61\n",
            "두 값의 비 : 7.70\n"
          ]
        }
      ]
    },
    {
      "cell_type": "code",
      "metadata": {
        "colab": {
          "base_uri": "https://localhost:8080/"
        },
        "id": "M8xUwIZccRSp",
        "outputId": "aee7a690-8eb2-428a-d6d8-8129abd4b725"
      },
      "source": [
        "print('y_hat1과 cee: {:.2f}'.format(mse(y_hat1,t)))\n",
        "print('y_hat2과 cee: {:.2f}'.format(mse(y_hat2,t)))\n",
        "print('두 값의 비 : {:.2f}'.format(mse(y_hat2,t) / mse(y_hat1,t)))"
      ],
      "execution_count": null,
      "outputs": [
        {
          "output_type": "stream",
          "name": "stdout",
          "text": [
            "y_hat1과 cee: 0.12\n",
            "y_hat2과 cee: 0.60\n",
            "두 값의 비 : 4.93\n"
          ]
        }
      ]
    },
    {
      "cell_type": "code",
      "metadata": {
        "id": "RbovbJTddFws"
      },
      "source": [
        ""
      ],
      "execution_count": null,
      "outputs": []
    }
  ]
}