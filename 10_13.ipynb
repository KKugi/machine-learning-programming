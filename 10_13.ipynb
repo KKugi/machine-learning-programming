{
  "nbformat": 4,
  "nbformat_minor": 0,
  "metadata": {
    "colab": {
      "name": "10_13.ipynb",
      "provenance": [],
      "collapsed_sections": [],
      "authorship_tag": "ABX9TyPYT1yzr1TdrKOYZXkGplug",
      "include_colab_link": true
    },
    "kernelspec": {
      "name": "python3",
      "display_name": "Python 3"
    },
    "language_info": {
      "name": "python"
    }
  },
  "cells": [
    {
      "cell_type": "markdown",
      "metadata": {
        "id": "view-in-github",
        "colab_type": "text"
      },
      "source": [
        "<a href=\"https://colab.research.google.com/github/KKugi/machine-learning-programming/blob/main/10_13.ipynb\" target=\"_parent\"><img src=\"https://colab.research.google.com/assets/colab-badge.svg\" alt=\"Open In Colab\"/></a>"
      ]
    },
    {
      "cell_type": "markdown",
      "metadata": {
        "id": "nxpHoQBuW6kF"
      },
      "source": [
        "### pandas"
      ]
    },
    {
      "cell_type": "code",
      "metadata": {
        "id": "wvR6GHEtTjhY"
      },
      "source": [
        "import pandas as pd "
      ],
      "execution_count": null,
      "outputs": []
    },
    {
      "cell_type": "code",
      "metadata": {
        "id": "Z1bSOWiaUzf0"
      },
      "source": [
        "path = 'http://github.com/dknife/ML/raw/main/data/'\n",
        "weather_file = path + 'weather.csv'\n"
      ],
      "execution_count": null,
      "outputs": []
    },
    {
      "cell_type": "code",
      "metadata": {
        "colab": {
          "base_uri": "https://localhost:8080/",
          "height": 447
        },
        "id": "WI4-lkGEU1AV",
        "outputId": "2e5a8a54-7354-4525-b58f-a5837ff03530"
      },
      "source": [
        "weather = pd.read_csv(weather_file, index_col=0, encoding='CP949')\n",
        "weather"
      ],
      "execution_count": null,
      "outputs": [
        {
          "output_type": "execute_result",
          "data": {
            "text/html": [
              "<div>\n",
              "<style scoped>\n",
              "    .dataframe tbody tr th:only-of-type {\n",
              "        vertical-align: middle;\n",
              "    }\n",
              "\n",
              "    .dataframe tbody tr th {\n",
              "        vertical-align: top;\n",
              "    }\n",
              "\n",
              "    .dataframe thead th {\n",
              "        text-align: right;\n",
              "    }\n",
              "</style>\n",
              "<table border=\"1\" class=\"dataframe\">\n",
              "  <thead>\n",
              "    <tr style=\"text-align: right;\">\n",
              "      <th></th>\n",
              "      <th>평균기온</th>\n",
              "      <th>최대풍속</th>\n",
              "      <th>평균풍속</th>\n",
              "    </tr>\n",
              "    <tr>\n",
              "      <th>일시</th>\n",
              "      <th></th>\n",
              "      <th></th>\n",
              "      <th></th>\n",
              "    </tr>\n",
              "  </thead>\n",
              "  <tbody>\n",
              "    <tr>\n",
              "      <th>2010-08-01</th>\n",
              "      <td>28.7</td>\n",
              "      <td>8.3</td>\n",
              "      <td>3.4</td>\n",
              "    </tr>\n",
              "    <tr>\n",
              "      <th>2010-08-02</th>\n",
              "      <td>25.2</td>\n",
              "      <td>8.7</td>\n",
              "      <td>3.8</td>\n",
              "    </tr>\n",
              "    <tr>\n",
              "      <th>2010-08-03</th>\n",
              "      <td>22.1</td>\n",
              "      <td>6.3</td>\n",
              "      <td>2.9</td>\n",
              "    </tr>\n",
              "    <tr>\n",
              "      <th>2010-08-04</th>\n",
              "      <td>25.3</td>\n",
              "      <td>6.6</td>\n",
              "      <td>4.2</td>\n",
              "    </tr>\n",
              "    <tr>\n",
              "      <th>2010-08-05</th>\n",
              "      <td>27.2</td>\n",
              "      <td>9.1</td>\n",
              "      <td>5.6</td>\n",
              "    </tr>\n",
              "    <tr>\n",
              "      <th>...</th>\n",
              "      <td>...</td>\n",
              "      <td>...</td>\n",
              "      <td>...</td>\n",
              "    </tr>\n",
              "    <tr>\n",
              "      <th>2020-07-27</th>\n",
              "      <td>22.1</td>\n",
              "      <td>4.2</td>\n",
              "      <td>1.7</td>\n",
              "    </tr>\n",
              "    <tr>\n",
              "      <th>2020-07-28</th>\n",
              "      <td>21.9</td>\n",
              "      <td>4.5</td>\n",
              "      <td>1.6</td>\n",
              "    </tr>\n",
              "    <tr>\n",
              "      <th>2020-07-29</th>\n",
              "      <td>21.6</td>\n",
              "      <td>3.2</td>\n",
              "      <td>1.0</td>\n",
              "    </tr>\n",
              "    <tr>\n",
              "      <th>2020-07-30</th>\n",
              "      <td>22.9</td>\n",
              "      <td>9.7</td>\n",
              "      <td>2.4</td>\n",
              "    </tr>\n",
              "    <tr>\n",
              "      <th>2020-07-31</th>\n",
              "      <td>25.7</td>\n",
              "      <td>4.8</td>\n",
              "      <td>2.5</td>\n",
              "    </tr>\n",
              "  </tbody>\n",
              "</table>\n",
              "<p>3653 rows × 3 columns</p>\n",
              "</div>"
            ],
            "text/plain": [
              "            평균기온  최대풍속  평균풍속\n",
              "일시                          \n",
              "2010-08-01  28.7   8.3   3.4\n",
              "2010-08-02  25.2   8.7   3.8\n",
              "2010-08-03  22.1   6.3   2.9\n",
              "2010-08-04  25.3   6.6   4.2\n",
              "2010-08-05  27.2   9.1   5.6\n",
              "...          ...   ...   ...\n",
              "2020-07-27  22.1   4.2   1.7\n",
              "2020-07-28  21.9   4.5   1.6\n",
              "2020-07-29  21.6   3.2   1.0\n",
              "2020-07-30  22.9   9.7   2.4\n",
              "2020-07-31  25.7   4.8   2.5\n",
              "\n",
              "[3653 rows x 3 columns]"
            ]
          },
          "metadata": {},
          "execution_count": 94
        }
      ]
    },
    {
      "cell_type": "code",
      "metadata": {
        "colab": {
          "base_uri": "https://localhost:8080/"
        },
        "id": "WufzVXyRWg71",
        "outputId": "ccf0673c-f050-43bf-bd0b-343dd334d3b8"
      },
      "source": [
        "print(weather.head(3))\n",
        "print('weather 데이터의 shape :', weather.shape)"
      ],
      "execution_count": null,
      "outputs": [
        {
          "output_type": "stream",
          "name": "stdout",
          "text": [
            "            평균기온  최대풍속  평균풍속\n",
            "일시                          \n",
            "2010-08-01  28.7   8.3   3.4\n",
            "2010-08-02  25.2   8.7   3.8\n",
            "2010-08-03  22.1   6.3   2.9\n",
            "weather 데이터의 shape : (3653, 3)\n"
          ]
        }
      ]
    },
    {
      "cell_type": "code",
      "metadata": {
        "colab": {
          "base_uri": "https://localhost:8080/"
        },
        "id": "V4uDhrH5Wir2",
        "outputId": "245296b3-9509-4c2b-c512-347cf95a3c25"
      },
      "source": [
        "weather.count()"
      ],
      "execution_count": null,
      "outputs": [
        {
          "output_type": "execute_result",
          "data": {
            "text/plain": [
              "평균기온    3653\n",
              "최대풍속    3649\n",
              "평균풍속    3647\n",
              "dtype: int64"
            ]
          },
          "metadata": {},
          "execution_count": 96
        }
      ]
    },
    {
      "cell_type": "code",
      "metadata": {
        "colab": {
          "base_uri": "https://localhost:8080/"
        },
        "id": "_zoXUu63U2ZZ",
        "outputId": "1b0b7e2b-789b-4e82-df6b-cd406847dc5a"
      },
      "source": [
        "missing_data = weather[weather['평균풍속'].isna()]\n",
        "print(missing_data)"
      ],
      "execution_count": null,
      "outputs": [
        {
          "output_type": "stream",
          "name": "stdout",
          "text": [
            "            평균기온  최대풍속  평균풍속\n",
            "일시                          \n",
            "2012-02-11  -0.7   NaN   NaN\n",
            "2012-02-12   0.4   NaN   NaN\n",
            "2012-02-13   4.0   NaN   NaN\n",
            "2015-03-22  10.1  11.6   NaN\n",
            "2015-04-01   7.3  12.1   NaN\n",
            "2019-04-18  15.7  11.7   NaN\n"
          ]
        }
      ]
    },
    {
      "cell_type": "code",
      "metadata": {
        "colab": {
          "base_uri": "https://localhost:8080/"
        },
        "id": "ZbC4tNfLU4WK",
        "outputId": "1c6c630a-3da4-4106-d0bb-4ad1ed2d6cb5"
      },
      "source": [
        "missing_data1 = weather[weather['최대풍속'].isna()]\n",
        "print(missing_data1)"
      ],
      "execution_count": null,
      "outputs": [
        {
          "output_type": "stream",
          "name": "stdout",
          "text": [
            "            평균기온  최대풍속  평균풍속\n",
            "일시                          \n",
            "2012-02-11  -0.7   NaN   NaN\n",
            "2012-02-12   0.4   NaN   NaN\n",
            "2012-02-13   4.0   NaN   NaN\n",
            "2019-04-19   7.8   NaN   2.3\n"
          ]
        }
      ]
    },
    {
      "cell_type": "code",
      "metadata": {
        "id": "Om9azV7AL4Y0"
      },
      "source": [
        "# weather.fillna(0,inplace=True)\n",
        "# print(weather.loc['2012-02-11'])"
      ],
      "execution_count": null,
      "outputs": []
    },
    {
      "cell_type": "code",
      "metadata": {
        "colab": {
          "base_uri": "https://localhost:8080/"
        },
        "id": "70jRvjZ0MNRu",
        "outputId": "7370240f-9712-4b1a-d451-7efba51ea207"
      },
      "source": [
        "weather['평균풍속'].mean()"
      ],
      "execution_count": null,
      "outputs": [
        {
          "output_type": "execute_result",
          "data": {
            "text/plain": [
              "3.936440910337254"
            ]
          },
          "metadata": {},
          "execution_count": 100
        }
      ]
    },
    {
      "cell_type": "code",
      "metadata": {
        "id": "90l7HVyPXEZI",
        "colab": {
          "base_uri": "https://localhost:8080/"
        },
        "outputId": "7c8671d9-05d7-4481-8389-84fd2b0b59d7"
      },
      "source": [
        "weather.fillna(weather['평균풍속'].mean(),inplace = True) # 기존 데이터에 덮어쓰기 한다.\n",
        "print(weather.loc['2012-02-11'])"
      ],
      "execution_count": null,
      "outputs": [
        {
          "output_type": "stream",
          "name": "stdout",
          "text": [
            "평균기온   -0.700000\n",
            "최대풍속    3.936441\n",
            "평균풍속    3.936441\n",
            "Name: 2012-02-11, dtype: float64\n"
          ]
        }
      ]
    },
    {
      "cell_type": "markdown",
      "metadata": {
        "id": "NV-nVy_8N-lm"
      },
      "source": [
        "- groupby()"
      ]
    },
    {
      "cell_type": "code",
      "metadata": {
        "id": "jrP6SjBXPASD"
      },
      "source": [
        "weather = pd.read_csv(weather_file, encoding='CP949')"
      ],
      "execution_count": null,
      "outputs": []
    },
    {
      "cell_type": "code",
      "metadata": {
        "colab": {
          "base_uri": "https://localhost:8080/"
        },
        "id": "AAATTs1wLmzd",
        "outputId": "60fb10db-c97e-41ac-f7ca-122a0bb31c9a"
      },
      "source": [
        "weather['month'] = pd.DatetimeIndex(weather['일시']).month\n",
        "means = weather.groupby('month').mean()\n",
        "print(means)"
      ],
      "execution_count": null,
      "outputs": [
        {
          "output_type": "stream",
          "name": "stdout",
          "text": [
            "            평균기온      최대풍속      평균풍속\n",
            "month                               \n",
            "1       1.598387  8.158065  3.757419\n",
            "2       2.136396  8.225357  3.946786\n",
            "3       6.250323  8.871935  4.390291\n",
            "4      11.064667  9.305017  4.622483\n",
            "5      16.564194  8.548710  4.219355\n",
            "6      19.616667  6.945667  3.461000\n",
            "7      23.328387  7.322581  3.877419\n",
            "8      24.748710  6.853226  3.596129\n",
            "9      20.323667  6.896333  3.661667\n",
            "10     15.383871  7.766774  3.961613\n",
            "11      9.889667  8.013333  3.930667\n",
            "12      3.753548  8.045484  3.817097\n"
          ]
        }
      ]
    },
    {
      "cell_type": "code",
      "metadata": {
        "colab": {
          "base_uri": "https://localhost:8080/"
        },
        "id": "Kc4vgzv_OfNo",
        "outputId": "2e5ca756-16e0-4ad7-b8fe-3e34a76f2d33"
      },
      "source": [
        "means['평균풍속'] >= 4.0"
      ],
      "execution_count": null,
      "outputs": [
        {
          "output_type": "execute_result",
          "data": {
            "text/plain": [
              "month\n",
              "1     False\n",
              "2     False\n",
              "3      True\n",
              "4      True\n",
              "5      True\n",
              "6     False\n",
              "7     False\n",
              "8     False\n",
              "9     False\n",
              "10    False\n",
              "11    False\n",
              "12    False\n",
              "Name: 평균풍속, dtype: bool"
            ]
          },
          "metadata": {},
          "execution_count": 104
        }
      ]
    },
    {
      "cell_type": "code",
      "metadata": {
        "colab": {
          "base_uri": "https://localhost:8080/",
          "height": 172
        },
        "id": "QUdJlQpmPbep",
        "outputId": "66493cb0-592b-4235-e223-2b8f26fd0e3b"
      },
      "source": [
        "means[means['평균풍속']>=4.0]"
      ],
      "execution_count": null,
      "outputs": [
        {
          "output_type": "execute_result",
          "data": {
            "text/html": [
              "<div>\n",
              "<style scoped>\n",
              "    .dataframe tbody tr th:only-of-type {\n",
              "        vertical-align: middle;\n",
              "    }\n",
              "\n",
              "    .dataframe tbody tr th {\n",
              "        vertical-align: top;\n",
              "    }\n",
              "\n",
              "    .dataframe thead th {\n",
              "        text-align: right;\n",
              "    }\n",
              "</style>\n",
              "<table border=\"1\" class=\"dataframe\">\n",
              "  <thead>\n",
              "    <tr style=\"text-align: right;\">\n",
              "      <th></th>\n",
              "      <th>평균기온</th>\n",
              "      <th>최대풍속</th>\n",
              "      <th>평균풍속</th>\n",
              "    </tr>\n",
              "    <tr>\n",
              "      <th>month</th>\n",
              "      <th></th>\n",
              "      <th></th>\n",
              "      <th></th>\n",
              "    </tr>\n",
              "  </thead>\n",
              "  <tbody>\n",
              "    <tr>\n",
              "      <th>3</th>\n",
              "      <td>6.250323</td>\n",
              "      <td>8.871935</td>\n",
              "      <td>4.390291</td>\n",
              "    </tr>\n",
              "    <tr>\n",
              "      <th>4</th>\n",
              "      <td>11.064667</td>\n",
              "      <td>9.305017</td>\n",
              "      <td>4.622483</td>\n",
              "    </tr>\n",
              "    <tr>\n",
              "      <th>5</th>\n",
              "      <td>16.564194</td>\n",
              "      <td>8.548710</td>\n",
              "      <td>4.219355</td>\n",
              "    </tr>\n",
              "  </tbody>\n",
              "</table>\n",
              "</div>"
            ],
            "text/plain": [
              "            평균기온      최대풍속      평균풍속\n",
              "month                               \n",
              "3       6.250323  8.871935  4.390291\n",
              "4      11.064667  9.305017  4.622483\n",
              "5      16.564194  8.548710  4.219355"
            ]
          },
          "metadata": {},
          "execution_count": 105
        }
      ]
    },
    {
      "cell_type": "markdown",
      "metadata": {
        "id": "Ps1CcQrdSTEJ"
      },
      "source": [
        "### Pivot and Concat\n",
        "- pandas는 데이터 분석을 하다보면 테이블에서 행과열의 위치를 바꾼다던가, 어떤 기준을 정해서 집계를 해서 테이블 구조를 변경해야하는 경우를 위해 테이블 구조를 변경하는 함수를 제공하는데 대표적으로 pivot()함수이다."
      ]
    },
    {
      "cell_type": "code",
      "metadata": {
        "id": "0JUvv90JPyqn"
      },
      "source": [
        "import pandas as pd"
      ],
      "execution_count": null,
      "outputs": []
    },
    {
      "cell_type": "code",
      "metadata": {
        "colab": {
          "base_uri": "https://localhost:8080/",
          "height": 172
        },
        "id": "TKCEofcPTtJW",
        "outputId": "ee066f86-30c9-47d3-d57f-4e83b22be4c9"
      },
      "source": [
        "df_1 = pd.DataFrame({'item':['ring0','ring0','ring1','ring1'],\n",
        "                     'type':['Gold','Silver','Gold','Broze'],\n",
        "                     'price':[2000,10000,50000,30000]})\n",
        "df_1"
      ],
      "execution_count": null,
      "outputs": [
        {
          "output_type": "execute_result",
          "data": {
            "text/html": [
              "<div>\n",
              "<style scoped>\n",
              "    .dataframe tbody tr th:only-of-type {\n",
              "        vertical-align: middle;\n",
              "    }\n",
              "\n",
              "    .dataframe tbody tr th {\n",
              "        vertical-align: top;\n",
              "    }\n",
              "\n",
              "    .dataframe thead th {\n",
              "        text-align: right;\n",
              "    }\n",
              "</style>\n",
              "<table border=\"1\" class=\"dataframe\">\n",
              "  <thead>\n",
              "    <tr style=\"text-align: right;\">\n",
              "      <th></th>\n",
              "      <th>item</th>\n",
              "      <th>type</th>\n",
              "      <th>price</th>\n",
              "    </tr>\n",
              "  </thead>\n",
              "  <tbody>\n",
              "    <tr>\n",
              "      <th>0</th>\n",
              "      <td>ring0</td>\n",
              "      <td>Gold</td>\n",
              "      <td>2000</td>\n",
              "    </tr>\n",
              "    <tr>\n",
              "      <th>1</th>\n",
              "      <td>ring0</td>\n",
              "      <td>Silver</td>\n",
              "      <td>10000</td>\n",
              "    </tr>\n",
              "    <tr>\n",
              "      <th>2</th>\n",
              "      <td>ring1</td>\n",
              "      <td>Gold</td>\n",
              "      <td>50000</td>\n",
              "    </tr>\n",
              "    <tr>\n",
              "      <th>3</th>\n",
              "      <td>ring1</td>\n",
              "      <td>Broze</td>\n",
              "      <td>30000</td>\n",
              "    </tr>\n",
              "  </tbody>\n",
              "</table>\n",
              "</div>"
            ],
            "text/plain": [
              "    item    type  price\n",
              "0  ring0    Gold   2000\n",
              "1  ring0  Silver  10000\n",
              "2  ring1    Gold  50000\n",
              "3  ring1   Broze  30000"
            ]
          },
          "metadata": {},
          "execution_count": 107
        }
      ]
    },
    {
      "cell_type": "markdown",
      "metadata": {
        "id": "f0darjBcWFZK"
      },
      "source": [
        "- index = 'item'으로 하여 item 열을 인덱스로 사용하고 columns = 'type'으로 열을 변경함"
      ]
    },
    {
      "cell_type": "code",
      "metadata": {
        "colab": {
          "base_uri": "https://localhost:8080/",
          "height": 142
        },
        "id": "vKxoxGVZVogH",
        "outputId": "efc0d2e3-6552-4a79-bddb-c99678760421"
      },
      "source": [
        "df_2 = df_1.pivot(index = 'item', columns = 'type', values = 'price')\n",
        "df_2"
      ],
      "execution_count": null,
      "outputs": [
        {
          "output_type": "execute_result",
          "data": {
            "text/html": [
              "<div>\n",
              "<style scoped>\n",
              "    .dataframe tbody tr th:only-of-type {\n",
              "        vertical-align: middle;\n",
              "    }\n",
              "\n",
              "    .dataframe tbody tr th {\n",
              "        vertical-align: top;\n",
              "    }\n",
              "\n",
              "    .dataframe thead th {\n",
              "        text-align: right;\n",
              "    }\n",
              "</style>\n",
              "<table border=\"1\" class=\"dataframe\">\n",
              "  <thead>\n",
              "    <tr style=\"text-align: right;\">\n",
              "      <th>type</th>\n",
              "      <th>Broze</th>\n",
              "      <th>Gold</th>\n",
              "      <th>Silver</th>\n",
              "    </tr>\n",
              "    <tr>\n",
              "      <th>item</th>\n",
              "      <th></th>\n",
              "      <th></th>\n",
              "      <th></th>\n",
              "    </tr>\n",
              "  </thead>\n",
              "  <tbody>\n",
              "    <tr>\n",
              "      <th>ring0</th>\n",
              "      <td>NaN</td>\n",
              "      <td>2000.0</td>\n",
              "      <td>10000.0</td>\n",
              "    </tr>\n",
              "    <tr>\n",
              "      <th>ring1</th>\n",
              "      <td>30000.0</td>\n",
              "      <td>50000.0</td>\n",
              "      <td>NaN</td>\n",
              "    </tr>\n",
              "  </tbody>\n",
              "</table>\n",
              "</div>"
            ],
            "text/plain": [
              "type     Broze     Gold   Silver\n",
              "item                            \n",
              "ring0      NaN   2000.0  10000.0\n",
              "ring1  30000.0  50000.0      NaN"
            ]
          },
          "metadata": {},
          "execution_count": 108
        }
      ]
    },
    {
      "cell_type": "markdown",
      "metadata": {
        "id": "MXk7aOKyYqDE"
      },
      "source": [
        "#### 일반적으로 데이터들은 작은 테이블로 나누어져 있는 경우\n",
        "- 데이터를 하나로 합치는 방법 가운데 하나인 concat()함수"
      ]
    },
    {
      "cell_type": "code",
      "metadata": {
        "id": "LhuLu3WMWjJE"
      },
      "source": [
        "df_3 = pd.DataFrame({'A':['a10','a11','a12'],\n",
        "                     'B':['b10','b11','b12'],\n",
        "                     'C':['c10','c11','c12']},\n",
        "                    index = ['가','나','다'])\n",
        "\n",
        "df_4 = pd.DataFrame({'B':['b23','b24','b25'],\n",
        "                     'C':['c23','c24','c25'],\n",
        "                     'D':['d23','d24','d25']},\n",
        "                    index = ['다','라','마'])\n"
      ],
      "execution_count": null,
      "outputs": []
    },
    {
      "cell_type": "code",
      "metadata": {
        "colab": {
          "base_uri": "https://localhost:8080/",
          "height": 142
        },
        "id": "xUbgpMwSZgGl",
        "outputId": "0ad4a7a1-6121-4075-ced6-111c25c2077c"
      },
      "source": [
        "df_3"
      ],
      "execution_count": null,
      "outputs": [
        {
          "output_type": "execute_result",
          "data": {
            "text/html": [
              "<div>\n",
              "<style scoped>\n",
              "    .dataframe tbody tr th:only-of-type {\n",
              "        vertical-align: middle;\n",
              "    }\n",
              "\n",
              "    .dataframe tbody tr th {\n",
              "        vertical-align: top;\n",
              "    }\n",
              "\n",
              "    .dataframe thead th {\n",
              "        text-align: right;\n",
              "    }\n",
              "</style>\n",
              "<table border=\"1\" class=\"dataframe\">\n",
              "  <thead>\n",
              "    <tr style=\"text-align: right;\">\n",
              "      <th></th>\n",
              "      <th>A</th>\n",
              "      <th>B</th>\n",
              "      <th>C</th>\n",
              "    </tr>\n",
              "  </thead>\n",
              "  <tbody>\n",
              "    <tr>\n",
              "      <th>가</th>\n",
              "      <td>a10</td>\n",
              "      <td>b10</td>\n",
              "      <td>c10</td>\n",
              "    </tr>\n",
              "    <tr>\n",
              "      <th>나</th>\n",
              "      <td>a11</td>\n",
              "      <td>b11</td>\n",
              "      <td>c11</td>\n",
              "    </tr>\n",
              "    <tr>\n",
              "      <th>다</th>\n",
              "      <td>a12</td>\n",
              "      <td>b12</td>\n",
              "      <td>c12</td>\n",
              "    </tr>\n",
              "  </tbody>\n",
              "</table>\n",
              "</div>"
            ],
            "text/plain": [
              "     A    B    C\n",
              "가  a10  b10  c10\n",
              "나  a11  b11  c11\n",
              "다  a12  b12  c12"
            ]
          },
          "metadata": {},
          "execution_count": 110
        }
      ]
    },
    {
      "cell_type": "code",
      "metadata": {
        "colab": {
          "base_uri": "https://localhost:8080/",
          "height": 142
        },
        "id": "TCwfXHuNZg40",
        "outputId": "00def2e1-30f3-4cca-a227-cd41c7d6abbe"
      },
      "source": [
        "df_4"
      ],
      "execution_count": null,
      "outputs": [
        {
          "output_type": "execute_result",
          "data": {
            "text/html": [
              "<div>\n",
              "<style scoped>\n",
              "    .dataframe tbody tr th:only-of-type {\n",
              "        vertical-align: middle;\n",
              "    }\n",
              "\n",
              "    .dataframe tbody tr th {\n",
              "        vertical-align: top;\n",
              "    }\n",
              "\n",
              "    .dataframe thead th {\n",
              "        text-align: right;\n",
              "    }\n",
              "</style>\n",
              "<table border=\"1\" class=\"dataframe\">\n",
              "  <thead>\n",
              "    <tr style=\"text-align: right;\">\n",
              "      <th></th>\n",
              "      <th>B</th>\n",
              "      <th>C</th>\n",
              "      <th>D</th>\n",
              "    </tr>\n",
              "  </thead>\n",
              "  <tbody>\n",
              "    <tr>\n",
              "      <th>다</th>\n",
              "      <td>b23</td>\n",
              "      <td>c23</td>\n",
              "      <td>d23</td>\n",
              "    </tr>\n",
              "    <tr>\n",
              "      <th>라</th>\n",
              "      <td>b24</td>\n",
              "      <td>c24</td>\n",
              "      <td>d24</td>\n",
              "    </tr>\n",
              "    <tr>\n",
              "      <th>마</th>\n",
              "      <td>b25</td>\n",
              "      <td>c25</td>\n",
              "      <td>d25</td>\n",
              "    </tr>\n",
              "  </tbody>\n",
              "</table>\n",
              "</div>"
            ],
            "text/plain": [
              "     B    C    D\n",
              "다  b23  c23  d23\n",
              "라  b24  c24  d24\n",
              "마  b25  c25  d25"
            ]
          },
          "metadata": {},
          "execution_count": 111
        }
      ]
    },
    {
      "cell_type": "code",
      "metadata": {
        "colab": {
          "base_uri": "https://localhost:8080/",
          "height": 234
        },
        "id": "3fuqC9IhZhmv",
        "outputId": "52f55512-7735-41e2-d97f-df71273337d4"
      },
      "source": [
        "df_5 = pd.concat([df_3, df_4])\n",
        "df_5"
      ],
      "execution_count": null,
      "outputs": [
        {
          "output_type": "execute_result",
          "data": {
            "text/html": [
              "<div>\n",
              "<style scoped>\n",
              "    .dataframe tbody tr th:only-of-type {\n",
              "        vertical-align: middle;\n",
              "    }\n",
              "\n",
              "    .dataframe tbody tr th {\n",
              "        vertical-align: top;\n",
              "    }\n",
              "\n",
              "    .dataframe thead th {\n",
              "        text-align: right;\n",
              "    }\n",
              "</style>\n",
              "<table border=\"1\" class=\"dataframe\">\n",
              "  <thead>\n",
              "    <tr style=\"text-align: right;\">\n",
              "      <th></th>\n",
              "      <th>A</th>\n",
              "      <th>B</th>\n",
              "      <th>C</th>\n",
              "      <th>D</th>\n",
              "    </tr>\n",
              "  </thead>\n",
              "  <tbody>\n",
              "    <tr>\n",
              "      <th>가</th>\n",
              "      <td>a10</td>\n",
              "      <td>b10</td>\n",
              "      <td>c10</td>\n",
              "      <td>NaN</td>\n",
              "    </tr>\n",
              "    <tr>\n",
              "      <th>나</th>\n",
              "      <td>a11</td>\n",
              "      <td>b11</td>\n",
              "      <td>c11</td>\n",
              "      <td>NaN</td>\n",
              "    </tr>\n",
              "    <tr>\n",
              "      <th>다</th>\n",
              "      <td>a12</td>\n",
              "      <td>b12</td>\n",
              "      <td>c12</td>\n",
              "      <td>NaN</td>\n",
              "    </tr>\n",
              "    <tr>\n",
              "      <th>다</th>\n",
              "      <td>NaN</td>\n",
              "      <td>b23</td>\n",
              "      <td>c23</td>\n",
              "      <td>d23</td>\n",
              "    </tr>\n",
              "    <tr>\n",
              "      <th>라</th>\n",
              "      <td>NaN</td>\n",
              "      <td>b24</td>\n",
              "      <td>c24</td>\n",
              "      <td>d24</td>\n",
              "    </tr>\n",
              "    <tr>\n",
              "      <th>마</th>\n",
              "      <td>NaN</td>\n",
              "      <td>b25</td>\n",
              "      <td>c25</td>\n",
              "      <td>d25</td>\n",
              "    </tr>\n",
              "  </tbody>\n",
              "</table>\n",
              "</div>"
            ],
            "text/plain": [
              "     A    B    C    D\n",
              "가  a10  b10  c10  NaN\n",
              "나  a11  b11  c11  NaN\n",
              "다  a12  b12  c12  NaN\n",
              "다  NaN  b23  c23  d23\n",
              "라  NaN  b24  c24  d24\n",
              "마  NaN  b25  c25  d25"
            ]
          },
          "metadata": {},
          "execution_count": 112
        }
      ]
    },
    {
      "cell_type": "code",
      "metadata": {
        "colab": {
          "base_uri": "https://localhost:8080/",
          "height": 80
        },
        "id": "kVHRLMpjaNtL",
        "outputId": "afd907d3-5f0c-48ae-ac91-34e4f13fc74e"
      },
      "source": [
        "df_6 = pd.concat([df_3, df_4],axis=1,join='inner')\n",
        "df_6"
      ],
      "execution_count": null,
      "outputs": [
        {
          "output_type": "execute_result",
          "data": {
            "text/html": [
              "<div>\n",
              "<style scoped>\n",
              "    .dataframe tbody tr th:only-of-type {\n",
              "        vertical-align: middle;\n",
              "    }\n",
              "\n",
              "    .dataframe tbody tr th {\n",
              "        vertical-align: top;\n",
              "    }\n",
              "\n",
              "    .dataframe thead th {\n",
              "        text-align: right;\n",
              "    }\n",
              "</style>\n",
              "<table border=\"1\" class=\"dataframe\">\n",
              "  <thead>\n",
              "    <tr style=\"text-align: right;\">\n",
              "      <th></th>\n",
              "      <th>A</th>\n",
              "      <th>B</th>\n",
              "      <th>C</th>\n",
              "      <th>B</th>\n",
              "      <th>C</th>\n",
              "      <th>D</th>\n",
              "    </tr>\n",
              "  </thead>\n",
              "  <tbody>\n",
              "    <tr>\n",
              "      <th>다</th>\n",
              "      <td>a12</td>\n",
              "      <td>b12</td>\n",
              "      <td>c12</td>\n",
              "      <td>b23</td>\n",
              "      <td>c23</td>\n",
              "      <td>d23</td>\n",
              "    </tr>\n",
              "  </tbody>\n",
              "</table>\n",
              "</div>"
            ],
            "text/plain": [
              "     A    B    C    B    C    D\n",
              "다  a12  b12  c12  b23  c23  d23"
            ]
          },
          "metadata": {},
          "execution_count": 113
        }
      ]
    },
    {
      "cell_type": "code",
      "metadata": {
        "colab": {
          "base_uri": "https://localhost:8080/",
          "height": 234
        },
        "id": "TEfiPMxaebki",
        "outputId": "13de03b0-c47e-4ec4-b647-63047213bae9"
      },
      "source": [
        "df_7 = pd.concat([df_3, df_4],axis=0,join='outer')\n",
        "df_7"
      ],
      "execution_count": null,
      "outputs": [
        {
          "output_type": "execute_result",
          "data": {
            "text/html": [
              "<div>\n",
              "<style scoped>\n",
              "    .dataframe tbody tr th:only-of-type {\n",
              "        vertical-align: middle;\n",
              "    }\n",
              "\n",
              "    .dataframe tbody tr th {\n",
              "        vertical-align: top;\n",
              "    }\n",
              "\n",
              "    .dataframe thead th {\n",
              "        text-align: right;\n",
              "    }\n",
              "</style>\n",
              "<table border=\"1\" class=\"dataframe\">\n",
              "  <thead>\n",
              "    <tr style=\"text-align: right;\">\n",
              "      <th></th>\n",
              "      <th>A</th>\n",
              "      <th>B</th>\n",
              "      <th>C</th>\n",
              "      <th>D</th>\n",
              "    </tr>\n",
              "  </thead>\n",
              "  <tbody>\n",
              "    <tr>\n",
              "      <th>가</th>\n",
              "      <td>a10</td>\n",
              "      <td>b10</td>\n",
              "      <td>c10</td>\n",
              "      <td>NaN</td>\n",
              "    </tr>\n",
              "    <tr>\n",
              "      <th>나</th>\n",
              "      <td>a11</td>\n",
              "      <td>b11</td>\n",
              "      <td>c11</td>\n",
              "      <td>NaN</td>\n",
              "    </tr>\n",
              "    <tr>\n",
              "      <th>다</th>\n",
              "      <td>a12</td>\n",
              "      <td>b12</td>\n",
              "      <td>c12</td>\n",
              "      <td>NaN</td>\n",
              "    </tr>\n",
              "    <tr>\n",
              "      <th>다</th>\n",
              "      <td>NaN</td>\n",
              "      <td>b23</td>\n",
              "      <td>c23</td>\n",
              "      <td>d23</td>\n",
              "    </tr>\n",
              "    <tr>\n",
              "      <th>라</th>\n",
              "      <td>NaN</td>\n",
              "      <td>b24</td>\n",
              "      <td>c24</td>\n",
              "      <td>d24</td>\n",
              "    </tr>\n",
              "    <tr>\n",
              "      <th>마</th>\n",
              "      <td>NaN</td>\n",
              "      <td>b25</td>\n",
              "      <td>c25</td>\n",
              "      <td>d25</td>\n",
              "    </tr>\n",
              "  </tbody>\n",
              "</table>\n",
              "</div>"
            ],
            "text/plain": [
              "     A    B    C    D\n",
              "가  a10  b10  c10  NaN\n",
              "나  a11  b11  c11  NaN\n",
              "다  a12  b12  c12  NaN\n",
              "다  NaN  b23  c23  d23\n",
              "라  NaN  b24  c24  d24\n",
              "마  NaN  b25  c25  d25"
            ]
          },
          "metadata": {},
          "execution_count": 114
        }
      ]
    },
    {
      "cell_type": "markdown",
      "metadata": {
        "id": "0y60hngie99J"
      },
      "source": [
        "### merge\n",
        "- 데이터베이스는 조인(join)이라는 연산을 가짐\n",
        "- 조인 연산과 같은 방식의 데이터 병합을 지원하는 판다스 함수가 merge()함수 이다.\n",
        "#### Data.Frame.merge(right,how='inner',on=None)\n",
        "- righe: 현재의 데이터프레임과 결합할 데이터프레임\n",
        "- how: 결합의 방식 'left', 'right', 'inner', 'outer' 가능\n",
        "- on: 조인 연산을 수행하기 위해 사용할 레이블(두 데이터프레임 모두에 존재해야 함)"
      ]
    },
    {
      "cell_type": "code",
      "metadata": {
        "colab": {
          "base_uri": "https://localhost:8080/"
        },
        "id": "NNnfNrx0hX0F",
        "outputId": "bf7c652d-ff9d-4783-9ee1-51612aa345b8"
      },
      "source": [
        "print(df_3)\n",
        "print(df_4)"
      ],
      "execution_count": null,
      "outputs": [
        {
          "output_type": "stream",
          "name": "stdout",
          "text": [
            "     A    B    C\n",
            "가  a10  b10  c10\n",
            "나  a11  b11  c11\n",
            "다  a12  b12  c12\n",
            "     B    C    D\n",
            "다  b23  c23  d23\n",
            "라  b24  c24  d24\n",
            "마  b25  c25  d25\n"
          ]
        }
      ]
    },
    {
      "cell_type": "code",
      "metadata": {
        "colab": {
          "base_uri": "https://localhost:8080/"
        },
        "id": "tV2Q9OSsewt2",
        "outputId": "b1e55185-e6d3-4807-b3ee-d7781a1e834a"
      },
      "source": [
        "print('left outer \\n', df_3.merge(df_4, how='left', on='B'))\n",
        "print('right outer \\n', df_3.merge(df_4, how='right', on='B'))\n",
        "print('full outer \\n', df_3.merge(df_4, how='outer',on='B'))\n",
        "print('inner \\n', df_3.merge(df_4, how='inner', on='B'))"
      ],
      "execution_count": null,
      "outputs": [
        {
          "output_type": "stream",
          "name": "stdout",
          "text": [
            "left outer \n",
            "      A    B  C_x  C_y    D\n",
            "0  a10  b10  c10  NaN  NaN\n",
            "1  a11  b11  c11  NaN  NaN\n",
            "2  a12  b12  c12  NaN  NaN\n",
            "right outer \n",
            "      A    B  C_x  C_y    D\n",
            "0  NaN  b23  NaN  c23  d23\n",
            "1  NaN  b24  NaN  c24  d24\n",
            "2  NaN  b25  NaN  c25  d25\n",
            "full outer \n",
            "      A    B  C_x  C_y    D\n",
            "0  a10  b10  c10  NaN  NaN\n",
            "1  a11  b11  c11  NaN  NaN\n",
            "2  a12  b12  c12  NaN  NaN\n",
            "3  NaN  b23  NaN  c23  d23\n",
            "4  NaN  b24  NaN  c24  d24\n",
            "5  NaN  b25  NaN  c25  d25\n",
            "inner \n",
            " Empty DataFrame\n",
            "Columns: [A, B, C_x, C_y, D]\n",
            "Index: []\n"
          ]
        }
      ]
    },
    {
      "cell_type": "markdown",
      "metadata": {
        "id": "oUNEpvHWjYKd"
      },
      "source": [
        "- 'outer'방식이 기본\n",
        "- 'left'는 'outer'조인의 결과에서 왼쪽 데이터 프레임에 존재하는 키를 가진 것만 뽑아내면 되고, 'right'는 오른쪽 테이블에서 발견되는 키를 가진 것만 뽑으면 된다.\n",
        "- 'inner'는 왼쪽과 오른쪽 테이블 모두에서 발견되는 키를 가져야 추출되는데, 여기에서는 공백\n",
        "-'B'뿐만이 아니라 'C'테이블도 두 테이블에 동시에 나타남"
      ]
    },
    {
      "cell_type": "code",
      "metadata": {
        "colab": {
          "base_uri": "https://localhost:8080/"
        },
        "id": "NJQmHE3cgszX",
        "outputId": "6750f932-c639-486c-c5ee-8681c96ef984"
      },
      "source": [
        "df_8 = df_3.merge(df_4,how='outer',on='B')\n",
        "print(df_8) # 왼쪽 테이블에서 가져온 것은 'C_x', 오른쪽에서 가져온 것은 'C_y'로 이름을 새로 붙여 테이블을 만든다."
      ],
      "execution_count": null,
      "outputs": [
        {
          "output_type": "stream",
          "name": "stdout",
          "text": [
            "     A    B  C_x  C_y    D\n",
            "0  a10  b10  c10  NaN  NaN\n",
            "1  a11  b11  c11  NaN  NaN\n",
            "2  a12  b12  c12  NaN  NaN\n",
            "3  NaN  b23  NaN  c23  d23\n",
            "4  NaN  b24  NaN  c24  d24\n",
            "5  NaN  b25  NaN  c25  d25\n"
          ]
        }
      ]
    },
    {
      "cell_type": "markdown",
      "metadata": {
        "id": "ew5fO2sYkTf4"
      },
      "source": [
        "- 인덱스를 모두 사용하여 병합의 키가 되도록 하는 방식\n",
        "- 'outer'방식이므로 두 인덱스의 합집합이 새로운 인덱스가 된다.\n",
        "-'inner'라면 교집합으로 '다'행만 남게된다."
      ]
    },
    {
      "cell_type": "code",
      "metadata": {
        "colab": {
          "base_uri": "https://localhost:8080/"
        },
        "id": "FGJBfKpvjFe9",
        "outputId": "85a4e8b5-7542-4a1e-85e9-aa73bda9351a"
      },
      "source": [
        "df_9 = df_3.merge(df_4, how='outer',\n",
        "                  left_index=True, right_index=True)\n",
        "print(df_9)"
      ],
      "execution_count": null,
      "outputs": [
        {
          "output_type": "stream",
          "name": "stdout",
          "text": [
            "     A  B_x  C_x  B_y  C_y    D\n",
            "가  a10  b10  c10  NaN  NaN  NaN\n",
            "나  a11  b11  c11  NaN  NaN  NaN\n",
            "다  a12  b12  c12  b23  c23  d23\n",
            "라  NaN  NaN  NaN  b24  c24  d24\n",
            "마  NaN  NaN  NaN  b25  c25  d25\n"
          ]
        }
      ]
    },
    {
      "cell_type": "code",
      "metadata": {
        "id": "hVbv8S5IjUG0"
      },
      "source": [
        ""
      ],
      "execution_count": null,
      "outputs": []
    }
  ]
}