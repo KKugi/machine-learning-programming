{
  "nbformat": 4,
  "nbformat_minor": 0,
  "metadata": {
    "colab": {
      "name": "9_13.ipynb",
      "provenance": [],
      "collapsed_sections": [],
      "authorship_tag": "ABX9TyNY6tlCdIHrgjTpo+w3WfLe",
      "include_colab_link": true
    },
    "kernelspec": {
      "name": "python3",
      "display_name": "Python 3"
    },
    "language_info": {
      "name": "python"
    }
  },
  "cells": [
    {
      "cell_type": "markdown",
      "metadata": {
        "id": "view-in-github",
        "colab_type": "text"
      },
      "source": [
        "<a href=\"https://colab.research.google.com/github/KKugi/machine-learning-programming/blob/main/9_13.ipynb\" target=\"_parent\"><img src=\"https://colab.research.google.com/assets/colab-badge.svg\" alt=\"Open In Colab\"/></a>"
      ]
    },
    {
      "cell_type": "code",
      "metadata": {
        "colab": {
          "base_uri": "https://localhost:8080/"
        },
        "id": "z87qs73XEBcd",
        "outputId": "670b68d9-cd4d-4df3-b120-fac857b01ad9"
      },
      "source": [
        "a = input(\"숫자를 입력하세요: \")\n",
        "print(a)\n",
        "\n",
        "b = a*10\n",
        "print(b)"
      ],
      "execution_count": null,
      "outputs": [
        {
          "output_type": "stream",
          "name": "stdout",
          "text": [
            "숫자를 입력하세요: 5\n",
            "5\n",
            "5555555555\n"
          ]
        }
      ]
    },
    {
      "cell_type": "code",
      "metadata": {
        "colab": {
          "base_uri": "https://localhost:8080/"
        },
        "id": "9vatHmOmEzv_",
        "outputId": "cafefcf2-7843-433c-9e46-d0aac18c1c71"
      },
      "source": [
        "a = int(input(\"숫자를 입력하세요: \"))\n",
        "print(a)\n",
        "\n",
        "b = a*10\n",
        "print(b)"
      ],
      "execution_count": null,
      "outputs": [
        {
          "output_type": "stream",
          "name": "stdout",
          "text": [
            "숫자를 입력하세요: 5\n",
            "5\n",
            "50\n"
          ]
        }
      ]
    },
    {
      "cell_type": "code",
      "metadata": {
        "colab": {
          "base_uri": "https://localhost:8080/"
        },
        "id": "faSiJaYQDvL0",
        "outputId": "b2b13170-1d3e-42f4-9c8f-67379dafdf8b"
      },
      "source": [
        "dan = int(input(\"구구단 단 입력: \"))\n",
        "for n in range(2,10,1):\n",
        "    print(\"%2d X %2d = \"%(dan,n),dan*n )"
      ],
      "execution_count": null,
      "outputs": [
        {
          "output_type": "stream",
          "name": "stdout",
          "text": [
            "구구단 단 입력: 5\n",
            " 5 X  2 =  10\n",
            " 5 X  3 =  15\n",
            " 5 X  4 =  20\n",
            " 5 X  5 =  25\n",
            " 5 X  6 =  30\n",
            " 5 X  7 =  35\n",
            " 5 X  8 =  40\n",
            " 5 X  9 =  45\n"
          ]
        }
      ]
    },
    {
      "cell_type": "code",
      "metadata": {
        "colab": {
          "base_uri": "https://localhost:8080/"
        },
        "id": "zsTP60W1E_-C",
        "outputId": "f7b5654c-a9b2-4671-c73b-d509b1dda07f"
      },
      "source": [
        "dan = int(input(\"구구단 단 입력: \"))\n",
        "n = 2\n",
        "while n < 10:\n",
        "    print(\"%2d X %2d = \"%(dan,n),dan*n )\n",
        "    n += 1"
      ],
      "execution_count": null,
      "outputs": [
        {
          "output_type": "stream",
          "name": "stdout",
          "text": [
            "구구단 단 입력: 10\n",
            "10 X  2 =  20\n",
            "10 X  3 =  30\n",
            "10 X  4 =  40\n",
            "10 X  5 =  50\n",
            "10 X  6 =  60\n",
            "10 X  7 =  70\n",
            "10 X  8 =  80\n",
            "10 X  9 =  90\n"
          ]
        }
      ]
    },
    {
      "cell_type": "code",
      "metadata": {
        "colab": {
          "base_uri": "https://localhost:8080/"
        },
        "id": "jUm5Bri3GNrr",
        "outputId": "b1a1207c-3889-49dd-cefd-cd7dd03e3a38"
      },
      "source": [
        "mySet = set([12,33,52,26,99])\n",
        "for e in mySet:\n",
        "    print(\"값=\",e)"
      ],
      "execution_count": null,
      "outputs": [
        {
          "output_type": "stream",
          "name": "stdout",
          "text": [
            "값= 33\n",
            "값= 99\n",
            "값= 12\n",
            "값= 52\n",
            "값= 26\n"
          ]
        }
      ]
    },
    {
      "cell_type": "code",
      "metadata": {
        "colab": {
          "base_uri": "https://localhost:8080/",
          "height": 35
        },
        "id": "eoo3VYzPG1cO",
        "outputId": "6a32701b-5bbe-4c3c-db98-fcb33f1e8703"
      },
      "source": [
        "msg = 'game over'\n",
        "msg"
      ],
      "execution_count": null,
      "outputs": [
        {
          "output_type": "execute_result",
          "data": {
            "application/vnd.google.colaboratory.intrinsic+json": {
              "type": "string"
            },
            "text/plain": [
              "'game over'"
            ]
          },
          "metadata": {},
          "execution_count": 28
        }
      ]
    },
    {
      "cell_type": "code",
      "metadata": {
        "colab": {
          "base_uri": "https://localhost:8080/",
          "height": 35
        },
        "id": "mE8DeQcFL6Tx",
        "outputId": "ac09b5a7-89ca-4037-8623-700a614788ec"
      },
      "source": [
        "hi = \"hello world\"\n",
        "hi"
      ],
      "execution_count": null,
      "outputs": [
        {
          "output_type": "execute_result",
          "data": {
            "application/vnd.google.colaboratory.intrinsic+json": {
              "type": "string"
            },
            "text/plain": [
              "'hello world'"
            ]
          },
          "metadata": {},
          "execution_count": 29
        }
      ]
    },
    {
      "cell_type": "code",
      "metadata": {
        "colab": {
          "base_uri": "https://localhost:8080/",
          "height": 35
        },
        "id": "JV2PdM8SMAOI",
        "outputId": "b708aa41-3ac8-4ca5-eee1-a26655269fea"
      },
      "source": [
        "sum = \"예전엔 \" + hi + \" 이제는 \" + msg \n",
        "sum"
      ],
      "execution_count": null,
      "outputs": [
        {
          "output_type": "execute_result",
          "data": {
            "application/vnd.google.colaboratory.intrinsic+json": {
              "type": "string"
            },
            "text/plain": [
              "'예전엔 hello world 이제는 game over'"
            ]
          },
          "metadata": {},
          "execution_count": 32
        }
      ]
    },
    {
      "cell_type": "code",
      "metadata": {
        "colab": {
          "base_uri": "https://localhost:8080/",
          "height": 35
        },
        "id": "bYP6YQt4MKTR",
        "outputId": "6cf6369b-3116-4879-b463-d6a394c372f9"
      },
      "source": [
        "hobby = \"테니스\"\n",
        "age = 21\n",
        "score = 4.5\n",
        "msg1 = \"당신의 학점은 %4.1f입니다\" % score\n",
        "msg1\n",
        "msg2 = \"취미=%s, 나이=%d, 학점=%2.1f\" %(hobby,age,score)\n",
        "msg2"
      ],
      "execution_count": null,
      "outputs": [
        {
          "output_type": "execute_result",
          "data": {
            "application/vnd.google.colaboratory.intrinsic+json": {
              "type": "string"
            },
            "text/plain": [
              "'취미=테니스, 나이=21, 학점=4.5'"
            ]
          },
          "metadata": {},
          "execution_count": 46
        }
      ]
    },
    {
      "cell_type": "code",
      "metadata": {
        "colab": {
          "base_uri": "https://localhost:8080/"
        },
        "id": "9-eRJBJ9NDpX",
        "outputId": "62841a2d-8a97-44e3-a482-de127c1bc85d"
      },
      "source": [
        "bid3 = []\n",
        "lotto = [23,34,11,42,9]\n",
        "big4 = [\"제이플라\",\"도타\",\"대도서관\",\"보람튜브\"]\n",
        "print(\"lotto[1] = \",lotto[1])\n",
        "big4[2] = \"블랙핑크\"\n",
        "big4\n",
        "big4.append(\"노제\")\n",
        "big4\n",
        "big4.reverse()\n",
        "big4"
      ],
      "execution_count": null,
      "outputs": [
        {
          "output_type": "stream",
          "name": "stdout",
          "text": [
            "lotto[1] =  34\n"
          ]
        },
        {
          "output_type": "execute_result",
          "data": {
            "text/plain": [
              "['노제', '보람튜브', '블랙핑크', '도타', '제이플라']"
            ]
          },
          "metadata": {},
          "execution_count": 54
        }
      ]
    },
    {
      "cell_type": "code",
      "metadata": {
        "id": "-bck27wUR02M"
      },
      "source": [
        "def find_min_max(A):\n",
        "    min = A[0]\n",
        "    max = A[0]\n",
        "    for i in range(1, len(A)):\n",
        "        if max < A[i] : max = A[i]\n",
        "        if min > A[i] : min = A[i]\n",
        "        return min, max"
      ],
      "execution_count": null,
      "outputs": []
    },
    {
      "cell_type": "code",
      "metadata": {
        "colab": {
          "base_uri": "https://localhost:8080/"
        },
        "id": "FMrSpXzaS_ZG",
        "outputId": "e0019cda-1e61-4812-c0c9-932f3ca782db"
      },
      "source": [
        "data = [5,3,8,4,9,1,6,2,7]\n",
        "x,y = find_min_max(data)\n",
        "print(\"(min,max) = \", (x,y))"
      ],
      "execution_count": null,
      "outputs": [
        {
          "output_type": "stream",
          "name": "stdout",
          "text": [
            "(min,max) =  (3, 5)\n"
          ]
        }
      ]
    },
    {
      "cell_type": "code",
      "metadata": {
        "id": "vQm48KhmTRAh"
      },
      "source": [
        "def Calc_perimeter(radius):\n",
        "    # Golbal perimeter\n",
        "    print(\"파이 값:\" , pi)\n",
        "    perimeter = 2 * pi *radius"
      ],
      "execution_count": null,
      "outputs": []
    },
    {
      "cell_type": "code",
      "metadata": {
        "colab": {
          "base_uri": "https://localhost:8080/"
        },
        "id": "7DjroYvWUyT2",
        "outputId": "3e48269e-aab2-4496-f24d-05101c1ca799"
      },
      "source": [
        "pi = 3.14159\n",
        "perimeter = 0\n",
        "Calc_perimeter(10)\n",
        "print(\"원둘레(r=10) = \", perimeter)"
      ],
      "execution_count": null,
      "outputs": [
        {
          "output_type": "stream",
          "name": "stdout",
          "text": [
            "파이 값: 3.14159\n",
            "원둘레(r=10) =  0\n"
          ]
        }
      ]
    },
    {
      "cell_type": "code",
      "metadata": {
        "id": "ZqSAXd0nVM7p"
      },
      "source": [
        "def Calc_perimeter(radius):\n",
        "    # Golbal perimeter\n",
        "    print(\"파이 값:\" , pi)\n",
        "    perimeter = 2 * pi *radius\n",
        "    print(\"원둘레(r=10) = \", perimeter)\n",
        "    "
      ],
      "execution_count": null,
      "outputs": []
    },
    {
      "cell_type": "code",
      "metadata": {
        "colab": {
          "base_uri": "https://localhost:8080/"
        },
        "id": "_10Nwgi9Vuoh",
        "outputId": "98704303-1623-4c51-bb29-bd28ea9589f6"
      },
      "source": [
        "pi = 3.14159\n",
        "perimeter = 0\n",
        "Calc_perimeter(10)"
      ],
      "execution_count": null,
      "outputs": [
        {
          "output_type": "stream",
          "name": "stdout",
          "text": [
            "파이 값: 3.14159\n",
            "원둘레(r=10) =  62.8318\n"
          ]
        }
      ]
    },
    {
      "cell_type": "code",
      "metadata": {
        "id": "MwYpvV15Vxg2"
      },
      "source": [
        "def Calc_perimeter(radius):\n",
        "    # Golbal perimeter\n",
        "    print(\"파이 값:\" , pi)\n",
        "    perimeter = 2 * pi *radius\n",
        "    return perimeter "
      ],
      "execution_count": null,
      "outputs": []
    },
    {
      "cell_type": "code",
      "metadata": {
        "colab": {
          "base_uri": "https://localhost:8080/"
        },
        "id": "XRz0sSCoWENE",
        "outputId": "376e317b-c6ad-47d9-c194-a68f80438fa0"
      },
      "source": [
        "pi = 3.14159\n",
        "perimeter = Calc_perimeter(10)\n",
        "print(\"원둘레(r=10) = \", perimeter)"
      ],
      "execution_count": null,
      "outputs": [
        {
          "output_type": "stream",
          "name": "stdout",
          "text": [
            "파이 값: 3.14159\n",
            "원둘레(r=10) =  62.8318\n"
          ]
        }
      ]
    },
    {
      "cell_type": "code",
      "metadata": {
        "id": "_qhf_IgsWJo1"
      },
      "source": [
        ""
      ],
      "execution_count": null,
      "outputs": []
    }
  ]
}