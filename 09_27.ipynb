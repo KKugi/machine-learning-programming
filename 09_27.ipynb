{
  "nbformat": 4,
  "nbformat_minor": 0,
  "metadata": {
    "colab": {
      "name": "09_27.ipynb",
      "provenance": [],
      "collapsed_sections": [],
      "authorship_tag": "ABX9TyPUkHEiiKXS4UohqZ1cjrmI",
      "include_colab_link": true
    },
    "kernelspec": {
      "display_name": "Python 3",
      "name": "python3"
    },
    "language_info": {
      "name": "python"
    }
  },
  "cells": [
    {
      "cell_type": "markdown",
      "metadata": {
        "id": "view-in-github",
        "colab_type": "text"
      },
      "source": [
        "<a href=\"https://colab.research.google.com/github/KKugi/machine-learning-programming/blob/main/09_27.ipynb\" target=\"_parent\"><img src=\"https://colab.research.google.com/assets/colab-badge.svg\" alt=\"Open In Colab\"/></a>"
      ]
    },
    {
      "cell_type": "markdown",
      "metadata": {
        "id": "qVphirqTFrYw"
      },
      "source": [
        "### Python\n",
        "#### 특정한 클래스에 속한 객체들이 사용할 수 있는 함수들을 해당 클래스의 메소드 method라고 부른다. "
      ]
    },
    {
      "cell_type": "code",
      "metadata": {
        "colab": {
          "base_uri": "https://localhost:8080/"
        },
        "id": "clE-5XDzCmXU",
        "outputId": "f562924e-4350-4cac-e16f-d489fd8cdd49"
      },
      "source": [
        "animals = ['lion','tiger','cat','dog']\n",
        "animals"
      ],
      "execution_count": null,
      "outputs": [
        {
          "output_type": "execute_result",
          "data": {
            "text/plain": [
              "['lion', 'tiger', 'cat', 'dog']"
            ]
          },
          "metadata": {},
          "execution_count": 1
        }
      ]
    },
    {
      "cell_type": "code",
      "metadata": {
        "colab": {
          "base_uri": "https://localhost:8080/"
        },
        "id": "ge7ReAIR1rE3",
        "outputId": "4bc05b8e-dc07-4902-f127-88167a81a061"
      },
      "source": [
        "print(type(animals))"
      ],
      "execution_count": null,
      "outputs": [
        {
          "output_type": "stream",
          "name": "stdout",
          "text": [
            "<class 'list'>\n"
          ]
        }
      ]
    },
    {
      "cell_type": "code",
      "metadata": {
        "colab": {
          "base_uri": "https://localhost:8080/"
        },
        "id": "CwGoQOwHGA_d",
        "outputId": "39719901-f738-40bc-ab6e-5686461de027"
      },
      "source": [
        "animals.sort() # 알파벳 순으로 정렬\n",
        "animals"
      ],
      "execution_count": null,
      "outputs": [
        {
          "output_type": "execute_result",
          "data": {
            "text/plain": [
              "['cat', 'dog', 'lion', 'tiger']"
            ]
          },
          "metadata": {},
          "execution_count": 3
        }
      ]
    },
    {
      "cell_type": "code",
      "metadata": {
        "colab": {
          "base_uri": "https://localhost:8080/"
        },
        "id": "nUxwjGMmGE83",
        "outputId": "c2e3333c-3eb5-49de-faf2-3585d2224beb"
      },
      "source": [
        "animals.append('rabbit') # 새 원소 추가\n",
        "animals"
      ],
      "execution_count": null,
      "outputs": [
        {
          "output_type": "execute_result",
          "data": {
            "text/plain": [
              "['cat', 'dog', 'lion', 'tiger', 'rabbit']"
            ]
          },
          "metadata": {},
          "execution_count": 4
        }
      ]
    },
    {
      "cell_type": "code",
      "metadata": {
        "colab": {
          "base_uri": "https://localhost:8080/"
        },
        "id": "KyoHHM-DGI2v",
        "outputId": "e4a0994e-d78b-4dc3-c2b3-0b5fa7318a24"
      },
      "source": [
        "animals.reverse() # 역순으로 바꿈\n",
        "animals"
      ],
      "execution_count": null,
      "outputs": [
        {
          "output_type": "execute_result",
          "data": {
            "text/plain": [
              "['rabbit', 'tiger', 'lion', 'dog', 'cat']"
            ]
          },
          "metadata": {},
          "execution_count": 5
        }
      ]
    },
    {
      "cell_type": "markdown",
      "metadata": {
        "id": "Yvwroc0FLgjS"
      },
      "source": [
        "#### 코랩 환경은 각자의 컴퓨터가 아니므로 각자가 개인적으로 가지고 있는 데이터를 활용할 수 있는 방법이 필요 \n",
        "- 이를 위해서 구글 드라이브를 이용 가장 먼저 해야할 일은 자신의 드라이브를 코랩에서 사용할 수 있도록 마운트 하는 것 \n",
        "-마운트는 어떤 장치를 컴퓨터 시스템에서 접근할 수 있도록 등록하는 일"
      ]
    },
    {
      "cell_type": "code",
      "metadata": {
        "colab": {
          "base_uri": "https://localhost:8080/"
        },
        "id": "chYgeUxSGUwP",
        "outputId": "5d6fe836-27a8-47db-9964-5fd30a637eaa"
      },
      "source": [
        "from google.colab import drive\n",
        "drive.mount('/content/drive')"
      ],
      "execution_count": null,
      "outputs": [
        {
          "output_type": "stream",
          "name": "stdout",
          "text": [
            "Mounted at /content/drive\n"
          ]
        }
      ]
    },
    {
      "cell_type": "markdown",
      "metadata": {
        "id": "q3Snp7YULZgx"
      },
      "source": [
        "#### 구글 코랩에서 현재 작업하고 있는 위치가 어디인지 알고 싶으면 !pwd를 아래와 같이 입력"
      ]
    },
    {
      "cell_type": "code",
      "metadata": {
        "colab": {
          "base_uri": "https://localhost:8080/"
        },
        "id": "sUi25pd4ICCg",
        "outputId": "2ea8c8a6-ab6f-4a03-d371-a9bcae7f703c"
      },
      "source": [
        "!pwd"
      ],
      "execution_count": null,
      "outputs": [
        {
          "output_type": "stream",
          "name": "stdout",
          "text": [
            "/content\n"
          ]
        }
      ]
    },
    {
      "cell_type": "markdown",
      "metadata": {
        "id": "SbMVGYgULTih"
      },
      "source": [
        "#### 저장 장치의 내용을 볼 때 사용하는 리눅스 명령은 ls인데, list를 의미"
      ]
    },
    {
      "cell_type": "code",
      "metadata": {
        "colab": {
          "base_uri": "https://localhost:8080/"
        },
        "id": "H3HYabo1KRlJ",
        "outputId": "e0cd2c75-c681-4fcd-e8ff-229396836e1b"
      },
      "source": [
        "!ls ./drive/MyDrive/ -la"
      ],
      "execution_count": null,
      "outputs": [
        {
          "output_type": "stream",
          "name": "stdout",
          "text": [
            "total 134\n",
            "drwx------ 2 root root   4096 Jul  8 06:18  이력서\n",
            "drwx------ 2 root root   4096 Sep 13 07:28 '머신러닝 프로그래밍'\n",
            "drwx------ 2 root root   4096 Oct  4 09:50 '인공지능 전문가'\n",
            "drwx------ 2 root root   4096 Sep 13 01:16 'Big Data'\n",
            "drwx------ 2 root root   4096 Sep 14 07:20 'Colab Notebooks'\n",
            "drwx------ 2 root root   4096 Oct  1 08:11  mAP-main\n",
            "drwx------ 2 root root   4096 Jul  6 07:34  MLDM\n",
            "-rw------- 1 root root 107878 Sep 27 07:24  myData.png\n"
          ]
        }
      ]
    },
    {
      "cell_type": "markdown",
      "metadata": {
        "id": "ri573SSQMCJZ"
      },
      "source": [
        "#### 이 파일을 읽어서 화면에 나타내기\n",
        "##### 맷플롯립Matplotlib이라는 패키지를 활용해 쉽게 할 수 있다."
      ]
    },
    {
      "cell_type": "code",
      "metadata": {
        "id": "4iW_hFruK6k6"
      },
      "source": [
        "import matplotlib.image as mping\n",
        "import matplotlib.pyplot as plt"
      ],
      "execution_count": null,
      "outputs": []
    },
    {
      "cell_type": "code",
      "metadata": {
        "colab": {
          "base_uri": "https://localhost:8080/",
          "height": 196
        },
        "id": "PiXsxuqAMOS5",
        "outputId": "1a879ee8-213a-4725-a789-28a4e59996ff"
      },
      "source": [
        "img = mping.imread('./drive/MyDrive/myData.png')\n",
        "plt.imshow(img)"
      ],
      "execution_count": null,
      "outputs": [
        {
          "output_type": "execute_result",
          "data": {
            "text/plain": [
              "<matplotlib.image.AxesImage at 0x7f1a77197110>"
            ]
          },
          "metadata": {},
          "execution_count": 10
        },
        {
          "output_type": "display_data",
          "data": {
            "image/png": "[encoded data removed]",
            "text/plain": [
              "<Figure size 432x288 with 1 Axes>"
            ]
          },
          "metadata": {
            "needs_background": "light"
          }
        }
      ]
    },
    {
      "cell_type": "markdown",
      "metadata": {
        "id": "YTQtCcX3Mm6J"
      },
      "source": [
        "#### 넘파이를 사용할 때는 numpy 모듈을 import\n",
        "##### 다음과 같이 as 키워드 다음에 나오는 np라는 별칭을 지정하여 사용"
      ]
    },
    {
      "cell_type": "code",
      "metadata": {
        "colab": {
          "base_uri": "https://localhost:8080/"
        },
        "id": "mTaI-Lx6MZLR",
        "outputId": "cb06a638-a87b-4eac-96c7-b97f7b0ec597"
      },
      "source": [
        "import numpy as np # numpy의 별칭으로 np를 지정\n",
        "my_array = np.array([1,2,3])\n",
        "my_array"
      ],
      "execution_count": null,
      "outputs": [
        {
          "output_type": "execute_result",
          "data": {
            "text/plain": [
              "array([1, 2, 3])"
            ]
          },
          "metadata": {},
          "execution_count": 11
        }
      ]
    },
    {
      "cell_type": "code",
      "metadata": {
        "colab": {
          "base_uri": "https://localhost:8080/"
        },
        "id": "WvJkD9EuM8Hq",
        "outputId": "77a8183f-e5c6-4b87-c9a4-c3a9f2447f68"
      },
      "source": [
        "my_array.reshape(1,-1)"
      ],
      "execution_count": null,
      "outputs": [
        {
          "output_type": "execute_result",
          "data": {
            "text/plain": [
              "array([[1, 2, 3]])"
            ]
          },
          "metadata": {},
          "execution_count": 12
        }
      ]
    },
    {
      "cell_type": "code",
      "metadata": {
        "colab": {
          "base_uri": "https://localhost:8080/"
        },
        "id": "ALOIzHIjNLCS",
        "outputId": "24024544-7721-42bf-cff3-5efa445bd9ae"
      },
      "source": [
        "my_array.reshape(-1,1)"
      ],
      "execution_count": null,
      "outputs": [
        {
          "output_type": "execute_result",
          "data": {
            "text/plain": [
              "array([[1],\n",
              "       [2],\n",
              "       [3]])"
            ]
          },
          "metadata": {},
          "execution_count": 13
        }
      ]
    },
    {
      "cell_type": "code",
      "metadata": {
        "colab": {
          "base_uri": "https://localhost:8080/"
        },
        "id": "JicjUPEiO-Xc",
        "outputId": "113d6284-10b6-4bd7-9465-2d7e976ff32d"
      },
      "source": [
        "# my_array 객체의 형태, 차원, 요소의 자료형, 요소의 크기, 요소의 수\n",
        "my_array.shape, my_array.ndim, my_array.dtype, my_array.itemsize, my_array.size "
      ],
      "execution_count": null,
      "outputs": [
        {
          "output_type": "execute_result",
          "data": {
            "text/plain": [
              "((3,), 1, dtype('int64'), 8, 3)"
            ]
          },
          "metadata": {},
          "execution_count": 14
        }
      ]
    },
    {
      "cell_type": "markdown",
      "metadata": {
        "id": "aj277tkRTHml"
      },
      "source": [
        "#### 넘파이는 데이터를 고속으로 처리하기 위해\n",
        "##### 요소들을 동일한 자료형으로 제한해 효율적인 접근\n",
        "##### 벡터화vectorization와 브로드캐스팅broadcasting 기법을 사용"
      ]
    },
    {
      "cell_type": "code",
      "metadata": {
        "colab": {
          "base_uri": "https://localhost:8080/"
        },
        "id": "aBcsUlJFSWce",
        "outputId": "66ca2e55-274c-4cde-aa39-6cc13d21165a"
      },
      "source": [
        "sal = np.array([240, 260, 220, 255])    \n",
        "sal"
      ],
      "execution_count": null,
      "outputs": [
        {
          "output_type": "execute_result",
          "data": {
            "text/plain": [
              "array([240, 260, 220, 255])"
            ]
          },
          "metadata": {},
          "execution_count": 15
        }
      ]
    },
    {
      "cell_type": "markdown",
      "metadata": {
        "id": "-B0dequ7UenO"
      },
      "source": [
        "#### 넘파이는 스칼라 값을 벡터의 각 원소로 전파하여 덧셈\n",
        "##### 브로드캐스팅이라고 한다. "
      ]
    },
    {
      "cell_type": "code",
      "metadata": {
        "colab": {
          "base_uri": "https://localhost:8080/"
        },
        "id": "aOdskgaQT5UG",
        "outputId": "192ab20b-92fd-45bf-8e12-12aad31f4c7e"
      },
      "source": [
        "sal +=  100\n",
        "print(sal)"
      ],
      "execution_count": null,
      "outputs": [
        {
          "output_type": "stream",
          "name": "stdout",
          "text": [
            "[340 360 320 355]\n"
          ]
        }
      ]
    },
    {
      "cell_type": "markdown",
      "metadata": {
        "id": "9cBp6CFkUuIG"
      },
      "source": [
        "#### 넘파이 배열에서 파이썬의 리스트와 동일한 방식으로 인덱스과 슬라이싱\n",
        "##### 크기는 1부터, 인덱스는 0부터"
      ]
    },
    {
      "cell_type": "code",
      "metadata": {
        "colab": {
          "base_uri": "https://localhost:8080/"
        },
        "id": "vOOal60uT8bu",
        "outputId": "0ef26379-2611-4ac8-f06d-9c69a4e6bf3f"
      },
      "source": [
        "scores = np.array([58,72,93,94,89,78,99])\n",
        "scores"
      ],
      "execution_count": null,
      "outputs": [
        {
          "output_type": "execute_result",
          "data": {
            "text/plain": [
              "array([58, 72, 93, 94, 89, 78, 99])"
            ]
          },
          "metadata": {},
          "execution_count": 17
        }
      ]
    },
    {
      "cell_type": "code",
      "metadata": {
        "colab": {
          "base_uri": "https://localhost:8080/"
        },
        "id": "Ul73c5OvVW5v",
        "outputId": "c8bcadf6-c92b-4160-a410-d1efb343cd70"
      },
      "source": [
        "scores[3:]"
      ],
      "execution_count": null,
      "outputs": [
        {
          "output_type": "execute_result",
          "data": {
            "text/plain": [
              "array([94, 89, 78, 99])"
            ]
          },
          "metadata": {},
          "execution_count": 18
        }
      ]
    },
    {
      "cell_type": "code",
      "metadata": {
        "colab": {
          "base_uri": "https://localhost:8080/"
        },
        "id": "CbpNHIs1VmBW",
        "outputId": "4e2ca179-3253-4a28-8f3a-1184b2b7ece3"
      },
      "source": [
        "scores[3:5]"
      ],
      "execution_count": null,
      "outputs": [
        {
          "output_type": "execute_result",
          "data": {
            "text/plain": [
              "array([94, 89])"
            ]
          },
          "metadata": {},
          "execution_count": 19
        }
      ]
    },
    {
      "cell_type": "code",
      "metadata": {
        "colab": {
          "base_uri": "https://localhost:8080/"
        },
        "id": "QUj6Wwm5Vnlm",
        "outputId": "2974eda9-f57b-4940-9bb0-dc6daf048931"
      },
      "source": [
        "scores[4:-1]"
      ],
      "execution_count": null,
      "outputs": [
        {
          "output_type": "execute_result",
          "data": {
            "text/plain": [
              "array([89, 78])"
            ]
          },
          "metadata": {},
          "execution_count": 20
        }
      ]
    },
    {
      "cell_type": "code",
      "metadata": {
        "colab": {
          "base_uri": "https://localhost:8080/"
        },
        "id": "XJ2j2gQ2Vsn3",
        "outputId": "c07f0a81-41c7-483c-bafa-5499c28b282a"
      },
      "source": [
        "scores[::-1]"
      ],
      "execution_count": null,
      "outputs": [
        {
          "output_type": "execute_result",
          "data": {
            "text/plain": [
              "array([99, 78, 89, 94, 93, 72, 58])"
            ]
          },
          "metadata": {},
          "execution_count": 21
        }
      ]
    },
    {
      "cell_type": "markdown",
      "metadata": {
        "id": "9gh-3r1OWM6B"
      },
      "source": [
        "#### 넘파이의 2차원 배열은 수학에서의 행렬과 같으며 역행렬이나 행렬식을 구하는 등의 행렬 연산들이 넘파이 배열에 쉽게 적용될 수 있도록 구현"
      ]
    },
    {
      "cell_type": "code",
      "metadata": {
        "colab": {
          "base_uri": "https://localhost:8080/"
        },
        "id": "den0WMreVxbY",
        "outputId": "c329e1c3-ab69-49c5-fbce-7e1afb8f57bb"
      },
      "source": [
        "np_array = np.array([[1,2,3],\n",
        "             [4,5,6],\n",
        "             [7,8,9]])\n",
        "np_array"
      ],
      "execution_count": null,
      "outputs": [
        {
          "output_type": "execute_result",
          "data": {
            "text/plain": [
              "array([[1, 2, 3],\n",
              "       [4, 5, 6],\n",
              "       [7, 8, 9]])"
            ]
          },
          "metadata": {},
          "execution_count": 22
        }
      ]
    },
    {
      "cell_type": "code",
      "metadata": {
        "colab": {
          "base_uri": "https://localhost:8080/"
        },
        "id": "NHzoR3ImXDqx",
        "outputId": "59f33adb-1c76-429c-e82b-84c794fb9e40"
      },
      "source": [
        "np_array[0,2]"
      ],
      "execution_count": null,
      "outputs": [
        {
          "output_type": "execute_result",
          "data": {
            "text/plain": [
              "3"
            ]
          },
          "metadata": {},
          "execution_count": 23
        }
      ]
    },
    {
      "cell_type": "code",
      "metadata": {
        "colab": {
          "base_uri": "https://localhost:8080/"
        },
        "id": "wCOKWNzzVDbz",
        "outputId": "aee36341-70ac-4b0a-8107-55230e7c478c"
      },
      "source": [
        "np_array[0:2]"
      ],
      "execution_count": null,
      "outputs": [
        {
          "output_type": "execute_result",
          "data": {
            "text/plain": [
              "array([[1, 2, 3],\n",
              "       [4, 5, 6]])"
            ]
          },
          "metadata": {},
          "execution_count": 24
        }
      ]
    },
    {
      "cell_type": "markdown",
      "metadata": {
        "id": "ovP7eY0fY-nv"
      },
      "source": [
        "### Logic Indexing\n",
        "#### 논리 인덱싱 이란 어떤 조건을 주어서 배열에서 원하는 값을 추려내는 것"
      ]
    },
    {
      "cell_type": "code",
      "metadata": {
        "colab": {
          "base_uri": "https://localhost:8080/"
        },
        "id": "oaHmH65EXUpV",
        "outputId": "8218cf13-6348-4a7b-83a6-594306d27c1a"
      },
      "source": [
        "ages = np.array([18,19,25,30,28])\n",
        "y = ages > 20\n",
        "y"
      ],
      "execution_count": null,
      "outputs": [
        {
          "output_type": "execute_result",
          "data": {
            "text/plain": [
              "array([False, False,  True,  True,  True])"
            ]
          },
          "metadata": {},
          "execution_count": 25
        }
      ]
    },
    {
      "cell_type": "code",
      "metadata": {
        "colab": {
          "base_uri": "https://localhost:8080/"
        },
        "id": "glO-KooKZR5f",
        "outputId": "30b2cde8-2762-4ffb-ea35-22d25209ffa4"
      },
      "source": [
        "type(ages)"
      ],
      "execution_count": null,
      "outputs": [
        {
          "output_type": "execute_result",
          "data": {
            "text/plain": [
              "numpy.ndarray"
            ]
          },
          "metadata": {},
          "execution_count": 26
        }
      ]
    },
    {
      "cell_type": "code",
      "metadata": {
        "colab": {
          "base_uri": "https://localhost:8080/"
        },
        "id": "8bILFMK7ZL0Y",
        "outputId": "58971c7b-2bc0-4676-c2f5-f504cf796b35"
      },
      "source": [
        "ages[ages > 20]"
      ],
      "execution_count": null,
      "outputs": [
        {
          "output_type": "execute_result",
          "data": {
            "text/plain": [
              "array([25, 30, 28])"
            ]
          },
          "metadata": {},
          "execution_count": 27
        }
      ]
    },
    {
      "cell_type": "markdown",
      "metadata": {
        "id": "t54OX9Cda9o4"
      },
      "source": [
        "## 09_29\n",
        "### pandas"
      ]
    },
    {
      "cell_type": "code",
      "metadata": {
        "id": "7zd82MoVZW83"
      },
      "source": [
        "import pandas as pd"
      ],
      "execution_count": null,
      "outputs": []
    },
    {
      "cell_type": "code",
      "metadata": {
        "id": "0I5wShRYbA23"
      },
      "source": [
        "path = 'https://github.com/dknife/ML/raw/main/data/'\n",
        "file = path + 'vehicle_prod.csv'"
      ],
      "execution_count": null,
      "outputs": []
    },
    {
      "cell_type": "code",
      "metadata": {
        "colab": {
          "base_uri": "https://localhost:8080/"
        },
        "id": "oQ_euUkvbRiI",
        "outputId": "37ba8fb8-a223-4610-b308-4f977aa7aded"
      },
      "source": [
        "df = pd.read_csv(file, index_col=0)\n",
        "print(df)"
      ],
      "execution_count": null,
      "outputs": [
        {
          "output_type": "stream",
          "name": "stdout",
          "text": [
            "         2007   2008   2009   2010   2011\n",
            "China    7.71   7.95  11.96  15.84  16.33\n",
            "EU      19.02  17.71  15.00  16.70  17.48\n",
            "US      10.47   8.45   5.58   7.60   8.40\n",
            "Japan   10.87  10.83   7.55   9.09   7.88\n",
            "Korea    4.04   3.78   3.45   4.20   4.62\n",
            "Mexico   2.01   2.05   1.50   2.25   2.54\n"
          ]
        }
      ]
    },
    {
      "cell_type": "code",
      "metadata": {
        "id": "pOnWyQs2bYzY",
        "colab": {
          "base_uri": "https://localhost:8080/"
        },
        "outputId": "c6680569-6b8e-4e2e-998f-35996727c124"
      },
      "source": [
        "df_my_index = pd.read_csv(file, index_col = 0)\n",
        "df_no_index = pd.read_csv(file)\n",
        "print(df_my_index['2007'])\n",
        "print(df_no_index['2007'])"
      ],
      "execution_count": null,
      "outputs": [
        {
          "output_type": "stream",
          "name": "stdout",
          "text": [
            "China      7.71\n",
            "EU        19.02\n",
            "US        10.47\n",
            "Japan     10.87\n",
            "Korea      4.04\n",
            "Mexico     2.01\n",
            "Name: 2007, dtype: float64\n",
            "0     7.71\n",
            "1    19.02\n",
            "2    10.47\n",
            "3    10.87\n",
            "4     4.04\n",
            "5     2.01\n",
            "Name: 2007, dtype: float64\n"
          ]
        }
      ]
    },
    {
      "cell_type": "code",
      "metadata": {
        "colab": {
          "base_uri": "https://localhost:8080/"
        },
        "id": "D9Lucc7I4goY",
        "outputId": "35a24242-d4c5-4ab7-f136-4bc910423252"
      },
      "source": [
        "print(df[['2007','2008','2009']])"
      ],
      "execution_count": null,
      "outputs": [
        {
          "output_type": "stream",
          "name": "stdout",
          "text": [
            "         2007   2008   2009\n",
            "China    7.71   7.95  11.96\n",
            "EU      19.02  17.71  15.00\n",
            "US      10.47   8.45   5.58\n",
            "Japan   10.87  10.83   7.55\n",
            "Korea    4.04   3.78   3.45\n",
            "Mexico   2.01   2.05   1.50\n"
          ]
        }
      ]
    },
    {
      "cell_type": "code",
      "metadata": {
        "id": "zXbCoUQ05QnH"
      },
      "source": [
        "import pandas as pd\n",
        "import matplotlib.pyplot as plt"
      ],
      "execution_count": null,
      "outputs": []
    },
    {
      "cell_type": "code",
      "metadata": {
        "colab": {
          "base_uri": "https://localhost:8080/",
          "height": 308
        },
        "id": "XaNVZS5O5oaw",
        "outputId": "7aa302f5-7fb7-47d7-8ec1-ddb73494ce7c"
      },
      "source": [
        "df['2009'].plot(kind = 'bar' , color = ('orange','r','b','m','c','k'))"
      ],
      "execution_count": null,
      "outputs": [
        {
          "output_type": "execute_result",
          "data": {
            "text/plain": [
              "<matplotlib.axes._subplots.AxesSubplot at 0x7f1a72742c90>"
            ]
          },
          "metadata": {},
          "execution_count": 34
        },
        {
          "output_type": "display_data",
          "data": {
            "image/png": "[encoded data removed]",
            "text/plain": [
              "<Figure size 432x288 with 1 Axes>"
            ]
          },
          "metadata": {
            "needs_background": "light"
          }
        }
      ]
    },
    {
      "cell_type": "code",
      "metadata": {
        "colab": {
          "base_uri": "https://localhost:8080/",
          "height": 266
        },
        "id": "aYHAGor_6bpY",
        "outputId": "57aa437c-4fe2-46c9-d92b-848f09373533"
      },
      "source": [
        "df['2009'].plot(kind = 'pie', autopct='%.1f%%') # 파이 차트에서는 색상을 지정하지 않는다는 점에 유의"
      ],
      "execution_count": null,
      "outputs": [
        {
          "output_type": "execute_result",
          "data": {
            "text/plain": [
              "<matplotlib.axes._subplots.AxesSubplot at 0x7f1a7a23ee10>"
            ]
          },
          "metadata": {},
          "execution_count": 35
        },
        {
          "output_type": "display_data",
          "data": {
            "image/png": "[encoded data removed]",
            "text/plain": [
              "<Figure size 432x288 with 1 Axes>"
            ]
          },
          "metadata": {}
        }
      ]
    },
    {
      "cell_type": "markdown",
      "metadata": {
        "id": "UiPOv-en_pRs"
      },
      "source": [
        "#### 처음 5행만 얻으려면 head()를 사용\n"
      ]
    },
    {
      "cell_type": "code",
      "metadata": {
        "colab": {
          "base_uri": "https://localhost:8080/",
          "height": 203
        },
        "id": "eklhTRjj78Ji",
        "outputId": "2e7e1ac4-cdfb-4b49-cc4f-d2561c4272e7"
      },
      "source": [
        "df.head()"
      ],
      "execution_count": null,
      "outputs": [
        {
          "output_type": "execute_result",
          "data": {
            "text/html": [
              "<div>\n",
              "<style scoped>\n",
              "    .dataframe tbody tr th:only-of-type {\n",
              "        vertical-align: middle;\n",
              "    }\n",
              "\n",
              "    .dataframe tbody tr th {\n",
              "        vertical-align: top;\n",
              "    }\n",
              "\n",
              "    .dataframe thead th {\n",
              "        text-align: right;\n",
              "    }\n",
              "</style>\n",
              "<table border=\"1\" class=\"dataframe\">\n",
              "  <thead>\n",
              "    <tr style=\"text-align: right;\">\n",
              "      <th></th>\n",
              "      <th>2007</th>\n",
              "      <th>2008</th>\n",
              "      <th>2009</th>\n",
              "      <th>2010</th>\n",
              "      <th>2011</th>\n",
              "    </tr>\n",
              "  </thead>\n",
              "  <tbody>\n",
              "    <tr>\n",
              "      <th>China</th>\n",
              "      <td>7.71</td>\n",
              "      <td>7.95</td>\n",
              "      <td>11.96</td>\n",
              "      <td>15.84</td>\n",
              "      <td>16.33</td>\n",
              "    </tr>\n",
              "    <tr>\n",
              "      <th>EU</th>\n",
              "      <td>19.02</td>\n",
              "      <td>17.71</td>\n",
              "      <td>15.00</td>\n",
              "      <td>16.70</td>\n",
              "      <td>17.48</td>\n",
              "    </tr>\n",
              "    <tr>\n",
              "      <th>US</th>\n",
              "      <td>10.47</td>\n",
              "      <td>8.45</td>\n",
              "      <td>5.58</td>\n",
              "      <td>7.60</td>\n",
              "      <td>8.40</td>\n",
              "    </tr>\n",
              "    <tr>\n",
              "      <th>Japan</th>\n",
              "      <td>10.87</td>\n",
              "      <td>10.83</td>\n",
              "      <td>7.55</td>\n",
              "      <td>9.09</td>\n",
              "      <td>7.88</td>\n",
              "    </tr>\n",
              "    <tr>\n",
              "      <th>Korea</th>\n",
              "      <td>4.04</td>\n",
              "      <td>3.78</td>\n",
              "      <td>3.45</td>\n",
              "      <td>4.20</td>\n",
              "      <td>4.62</td>\n",
              "    </tr>\n",
              "  </tbody>\n",
              "</table>\n",
              "</div>"
            ],
            "text/plain": [
              "        2007   2008   2009   2010   2011\n",
              "China   7.71   7.95  11.96  15.84  16.33\n",
              "EU     19.02  17.71  15.00  16.70  17.48\n",
              "US     10.47   8.45   5.58   7.60   8.40\n",
              "Japan  10.87  10.83   7.55   9.09   7.88\n",
              "Korea   4.04   3.78   3.45   4.20   4.62"
            ]
          },
          "metadata": {},
          "execution_count": 36
        }
      ]
    },
    {
      "cell_type": "code",
      "metadata": {
        "colab": {
          "base_uri": "https://localhost:8080/",
          "height": 142
        },
        "id": "fEH8iiyZ8eI1",
        "outputId": "e56e04fc-bfc5-4d10-e882-e4428161a0ca"
      },
      "source": [
        "df.head(3)"
      ],
      "execution_count": null,
      "outputs": [
        {
          "output_type": "execute_result",
          "data": {
            "text/html": [
              "<div>\n",
              "<style scoped>\n",
              "    .dataframe tbody tr th:only-of-type {\n",
              "        vertical-align: middle;\n",
              "    }\n",
              "\n",
              "    .dataframe tbody tr th {\n",
              "        vertical-align: top;\n",
              "    }\n",
              "\n",
              "    .dataframe thead th {\n",
              "        text-align: right;\n",
              "    }\n",
              "</style>\n",
              "<table border=\"1\" class=\"dataframe\">\n",
              "  <thead>\n",
              "    <tr style=\"text-align: right;\">\n",
              "      <th></th>\n",
              "      <th>2007</th>\n",
              "      <th>2008</th>\n",
              "      <th>2009</th>\n",
              "      <th>2010</th>\n",
              "      <th>2011</th>\n",
              "    </tr>\n",
              "  </thead>\n",
              "  <tbody>\n",
              "    <tr>\n",
              "      <th>China</th>\n",
              "      <td>7.71</td>\n",
              "      <td>7.95</td>\n",
              "      <td>11.96</td>\n",
              "      <td>15.84</td>\n",
              "      <td>16.33</td>\n",
              "    </tr>\n",
              "    <tr>\n",
              "      <th>EU</th>\n",
              "      <td>19.02</td>\n",
              "      <td>17.71</td>\n",
              "      <td>15.00</td>\n",
              "      <td>16.70</td>\n",
              "      <td>17.48</td>\n",
              "    </tr>\n",
              "    <tr>\n",
              "      <th>US</th>\n",
              "      <td>10.47</td>\n",
              "      <td>8.45</td>\n",
              "      <td>5.58</td>\n",
              "      <td>7.60</td>\n",
              "      <td>8.40</td>\n",
              "    </tr>\n",
              "  </tbody>\n",
              "</table>\n",
              "</div>"
            ],
            "text/plain": [
              "        2007   2008   2009   2010   2011\n",
              "China   7.71   7.95  11.96  15.84  16.33\n",
              "EU     19.02  17.71  15.00  16.70  17.48\n",
              "US     10.47   8.45   5.58   7.60   8.40"
            ]
          },
          "metadata": {},
          "execution_count": 37
        }
      ]
    },
    {
      "cell_type": "code",
      "metadata": {
        "colab": {
          "base_uri": "https://localhost:8080/",
          "height": 172
        },
        "id": "9AeXYF2s-7Cp",
        "outputId": "5238a6b8-81d4-4c7b-ffcf-95abb09da19f"
      },
      "source": [
        "df[2:6]"
      ],
      "execution_count": null,
      "outputs": [
        {
          "output_type": "execute_result",
          "data": {
            "text/html": [
              "<div>\n",
              "<style scoped>\n",
              "    .dataframe tbody tr th:only-of-type {\n",
              "        vertical-align: middle;\n",
              "    }\n",
              "\n",
              "    .dataframe tbody tr th {\n",
              "        vertical-align: top;\n",
              "    }\n",
              "\n",
              "    .dataframe thead th {\n",
              "        text-align: right;\n",
              "    }\n",
              "</style>\n",
              "<table border=\"1\" class=\"dataframe\">\n",
              "  <thead>\n",
              "    <tr style=\"text-align: right;\">\n",
              "      <th></th>\n",
              "      <th>2007</th>\n",
              "      <th>2008</th>\n",
              "      <th>2009</th>\n",
              "      <th>2010</th>\n",
              "      <th>2011</th>\n",
              "    </tr>\n",
              "  </thead>\n",
              "  <tbody>\n",
              "    <tr>\n",
              "      <th>US</th>\n",
              "      <td>10.47</td>\n",
              "      <td>8.45</td>\n",
              "      <td>5.58</td>\n",
              "      <td>7.60</td>\n",
              "      <td>8.40</td>\n",
              "    </tr>\n",
              "    <tr>\n",
              "      <th>Japan</th>\n",
              "      <td>10.87</td>\n",
              "      <td>10.83</td>\n",
              "      <td>7.55</td>\n",
              "      <td>9.09</td>\n",
              "      <td>7.88</td>\n",
              "    </tr>\n",
              "    <tr>\n",
              "      <th>Korea</th>\n",
              "      <td>4.04</td>\n",
              "      <td>3.78</td>\n",
              "      <td>3.45</td>\n",
              "      <td>4.20</td>\n",
              "      <td>4.62</td>\n",
              "    </tr>\n",
              "    <tr>\n",
              "      <th>Mexico</th>\n",
              "      <td>2.01</td>\n",
              "      <td>2.05</td>\n",
              "      <td>1.50</td>\n",
              "      <td>2.25</td>\n",
              "      <td>2.54</td>\n",
              "    </tr>\n",
              "  </tbody>\n",
              "</table>\n",
              "</div>"
            ],
            "text/plain": [
              "         2007   2008  2009  2010  2011\n",
              "US      10.47   8.45  5.58  7.60  8.40\n",
              "Japan   10.87  10.83  7.55  9.09  7.88\n",
              "Korea    4.04   3.78  3.45  4.20  4.62\n",
              "Mexico   2.01   2.05  1.50  2.25  2.54"
            ]
          },
          "metadata": {},
          "execution_count": 38
        }
      ]
    },
    {
      "cell_type": "markdown",
      "metadata": {
        "id": "ANnyQuzT_sMM"
      },
      "source": [
        "#### 마지막 5행만을 얻으려면 tail()을 사용"
      ]
    },
    {
      "cell_type": "code",
      "metadata": {
        "colab": {
          "base_uri": "https://localhost:8080/",
          "height": 203
        },
        "id": "ow3YN5_m_H9M",
        "outputId": "603cf474-e2e7-4c93-c27d-e2e520a909f8"
      },
      "source": [
        "df.tail()"
      ],
      "execution_count": null,
      "outputs": [
        {
          "output_type": "execute_result",
          "data": {
            "text/html": [
              "<div>\n",
              "<style scoped>\n",
              "    .dataframe tbody tr th:only-of-type {\n",
              "        vertical-align: middle;\n",
              "    }\n",
              "\n",
              "    .dataframe tbody tr th {\n",
              "        vertical-align: top;\n",
              "    }\n",
              "\n",
              "    .dataframe thead th {\n",
              "        text-align: right;\n",
              "    }\n",
              "</style>\n",
              "<table border=\"1\" class=\"dataframe\">\n",
              "  <thead>\n",
              "    <tr style=\"text-align: right;\">\n",
              "      <th></th>\n",
              "      <th>2007</th>\n",
              "      <th>2008</th>\n",
              "      <th>2009</th>\n",
              "      <th>2010</th>\n",
              "      <th>2011</th>\n",
              "    </tr>\n",
              "  </thead>\n",
              "  <tbody>\n",
              "    <tr>\n",
              "      <th>EU</th>\n",
              "      <td>19.02</td>\n",
              "      <td>17.71</td>\n",
              "      <td>15.00</td>\n",
              "      <td>16.70</td>\n",
              "      <td>17.48</td>\n",
              "    </tr>\n",
              "    <tr>\n",
              "      <th>US</th>\n",
              "      <td>10.47</td>\n",
              "      <td>8.45</td>\n",
              "      <td>5.58</td>\n",
              "      <td>7.60</td>\n",
              "      <td>8.40</td>\n",
              "    </tr>\n",
              "    <tr>\n",
              "      <th>Japan</th>\n",
              "      <td>10.87</td>\n",
              "      <td>10.83</td>\n",
              "      <td>7.55</td>\n",
              "      <td>9.09</td>\n",
              "      <td>7.88</td>\n",
              "    </tr>\n",
              "    <tr>\n",
              "      <th>Korea</th>\n",
              "      <td>4.04</td>\n",
              "      <td>3.78</td>\n",
              "      <td>3.45</td>\n",
              "      <td>4.20</td>\n",
              "      <td>4.62</td>\n",
              "    </tr>\n",
              "    <tr>\n",
              "      <th>Mexico</th>\n",
              "      <td>2.01</td>\n",
              "      <td>2.05</td>\n",
              "      <td>1.50</td>\n",
              "      <td>2.25</td>\n",
              "      <td>2.54</td>\n",
              "    </tr>\n",
              "  </tbody>\n",
              "</table>\n",
              "</div>"
            ],
            "text/plain": [
              "         2007   2008   2009   2010   2011\n",
              "EU      19.02  17.71  15.00  16.70  17.48\n",
              "US      10.47   8.45   5.58   7.60   8.40\n",
              "Japan   10.87  10.83   7.55   9.09   7.88\n",
              "Korea    4.04   3.78   3.45   4.20   4.62\n",
              "Mexico   2.01   2.05   1.50   2.25   2.54"
            ]
          },
          "metadata": {},
          "execution_count": 39
        }
      ]
    },
    {
      "cell_type": "markdown",
      "metadata": {
        "id": "dEQKnUZf_jpF"
      },
      "source": [
        "#### 'US', 'Korea'와 같은 행의 인덱스를 사용하여 행을 선택하려면 loc[인덱스]를 사용"
      ]
    },
    {
      "cell_type": "code",
      "metadata": {
        "colab": {
          "base_uri": "https://localhost:8080/"
        },
        "id": "hHvGnQXq_RZk",
        "outputId": "cd30f1cf-798b-4db3-bb49-f7b49f4d6a2f"
      },
      "source": [
        "df.loc['Korea']"
      ],
      "execution_count": null,
      "outputs": [
        {
          "output_type": "execute_result",
          "data": {
            "text/plain": [
              "2007    4.04\n",
              "2008    3.78\n",
              "2009    3.45\n",
              "2010    4.20\n",
              "2011    4.62\n",
              "Name: Korea, dtype: float64"
            ]
          },
          "metadata": {},
          "execution_count": 40
        }
      ]
    },
    {
      "cell_type": "markdown",
      "metadata": {
        "id": "pJCUkNP8_wel"
      },
      "source": [
        "#### 열 선택과 행 선택을 결합하는 방법열 선택과 행 선택을 결합하는 방법"
      ]
    },
    {
      "cell_type": "code",
      "metadata": {
        "colab": {
          "base_uri": "https://localhost:8080/"
        },
        "id": "tjSVw8Gz_2d-",
        "outputId": "6f968c06-b9d1-4d03-be3c-b2614bd064ac"
      },
      "source": [
        "df['2011']"
      ],
      "execution_count": null,
      "outputs": [
        {
          "output_type": "execute_result",
          "data": {
            "text/plain": [
              "China     16.33\n",
              "EU        17.48\n",
              "US         8.40\n",
              "Japan      7.88\n",
              "Korea      4.62\n",
              "Mexico     2.54\n",
              "Name: 2011, dtype: float64"
            ]
          },
          "metadata": {},
          "execution_count": 41
        }
      ]
    },
    {
      "cell_type": "code",
      "metadata": {
        "colab": {
          "base_uri": "https://localhost:8080/"
        },
        "id": "t0JdE7-d_cdF",
        "outputId": "5cae1b87-65bd-4543-de7b-36d314c249f3"
      },
      "source": [
        "df['2011'][[0,4]]"
      ],
      "execution_count": null,
      "outputs": [
        {
          "output_type": "execute_result",
          "data": {
            "text/plain": [
              "China    16.33\n",
              "Korea     4.62\n",
              "Name: 2011, dtype: float64"
            ]
          },
          "metadata": {},
          "execution_count": 42
        }
      ]
    },
    {
      "cell_type": "markdown",
      "metadata": {
        "id": "EJ0Zy7bvABnv"
      },
      "source": [
        "#### 데이터프레임에서 특정한 요소 하나만을 선택하려면 간단하게 loc() 함수에 행과 열의 레이블을 써주면 된다. "
      ]
    },
    {
      "cell_type": "code",
      "metadata": {
        "colab": {
          "base_uri": "https://localhost:8080/"
        },
        "id": "LZc6gv1S_5ic",
        "outputId": "3aef2408-ce37-49c3-a248-65d8c5b6e9b7"
      },
      "source": [
        "df.loc['Korea','2011']"
      ],
      "execution_count": null,
      "outputs": [
        {
          "output_type": "execute_result",
          "data": {
            "text/plain": [
              "4.62"
            ]
          },
          "metadata": {},
          "execution_count": 43
        }
      ]
    },
    {
      "cell_type": "markdown",
      "metadata": {
        "id": "jlOgo8M3AJx4"
      },
      "source": [
        "#### 판다스를 이용하면 기존에 존재하는 열의 정보를 토대로 새로운 열을 생성할 수 있음"
      ]
    },
    {
      "cell_type": "code",
      "metadata": {
        "colab": {
          "base_uri": "https://localhost:8080/"
        },
        "id": "rRNRtqT7AGzP",
        "outputId": "d65c6d9f-f379-40ef-d787-3ad4e229a5b8"
      },
      "source": [
        "df['total'] = df.sum(axis = 1)\n",
        "print(df)"
      ],
      "execution_count": null,
      "outputs": [
        {
          "output_type": "stream",
          "name": "stdout",
          "text": [
            "         2007   2008   2009   2010   2011  total\n",
            "China    7.71   7.95  11.96  15.84  16.33  59.79\n",
            "EU      19.02  17.71  15.00  16.70  17.48  85.91\n",
            "US      10.47   8.45   5.58   7.60   8.40  40.50\n",
            "Japan   10.87  10.83   7.55   9.09   7.88  46.22\n",
            "Korea    4.04   3.78   3.45   4.20   4.62  20.09\n",
            "Mexico   2.01   2.05   1.50   2.25   2.54  10.35\n"
          ]
        }
      ]
    },
    {
      "cell_type": "markdown",
      "metadata": {
        "id": "BHAWi7cxAY8l"
      },
      "source": [
        "#### 데이터프레임이 저장한 데이터를 분석하려면 describe() 함수를 사용"
      ]
    },
    {
      "cell_type": "code",
      "metadata": {
        "id": "ZdqII2EpAQf8"
      },
      "source": [
        "import pandas as pd "
      ],
      "execution_count": null,
      "outputs": []
    },
    {
      "cell_type": "code",
      "metadata": {
        "id": "mDl7TmH1Ao31"
      },
      "source": [
        "path = 'http://github.com/dknife/ML/raw/main/data/'\n",
        "weather_file = path + 'weather.csv'\n"
      ],
      "execution_count": null,
      "outputs": []
    },
    {
      "cell_type": "code",
      "metadata": {
        "colab": {
          "base_uri": "https://localhost:8080/",
          "height": 447
        },
        "id": "AViW8eOVA4r0",
        "outputId": "77ba4385-366e-496b-84a7-7c1f442bd5ca"
      },
      "source": [
        "weather = pd.read_csv(weather_file, index_col=0, encoding='CP949')\n",
        "weather"
      ],
      "execution_count": null,
      "outputs": [
        {
          "output_type": "execute_result",
          "data": {
            "text/html": [
              "<div>\n",
              "<style scoped>\n",
              "    .dataframe tbody tr th:only-of-type {\n",
              "        vertical-align: middle;\n",
              "    }\n",
              "\n",
              "    .dataframe tbody tr th {\n",
              "        vertical-align: top;\n",
              "    }\n",
              "\n",
              "    .dataframe thead th {\n",
              "        text-align: right;\n",
              "    }\n",
              "</style>\n",
              "<table border=\"1\" class=\"dataframe\">\n",
              "  <thead>\n",
              "    <tr style=\"text-align: right;\">\n",
              "      <th></th>\n",
              "      <th>평균기온</th>\n",
              "      <th>최대풍속</th>\n",
              "      <th>평균풍속</th>\n",
              "    </tr>\n",
              "    <tr>\n",
              "      <th>일시</th>\n",
              "      <th></th>\n",
              "      <th></th>\n",
              "      <th></th>\n",
              "    </tr>\n",
              "  </thead>\n",
              "  <tbody>\n",
              "    <tr>\n",
              "      <th>2010-08-01</th>\n",
              "      <td>28.7</td>\n",
              "      <td>8.3</td>\n",
              "      <td>3.4</td>\n",
              "    </tr>\n",
              "    <tr>\n",
              "      <th>2010-08-02</th>\n",
              "      <td>25.2</td>\n",
              "      <td>8.7</td>\n",
              "      <td>3.8</td>\n",
              "    </tr>\n",
              "    <tr>\n",
              "      <th>2010-08-03</th>\n",
              "      <td>22.1</td>\n",
              "      <td>6.3</td>\n",
              "      <td>2.9</td>\n",
              "    </tr>\n",
              "    <tr>\n",
              "      <th>2010-08-04</th>\n",
              "      <td>25.3</td>\n",
              "      <td>6.6</td>\n",
              "      <td>4.2</td>\n",
              "    </tr>\n",
              "    <tr>\n",
              "      <th>2010-08-05</th>\n",
              "      <td>27.2</td>\n",
              "      <td>9.1</td>\n",
              "      <td>5.6</td>\n",
              "    </tr>\n",
              "    <tr>\n",
              "      <th>...</th>\n",
              "      <td>...</td>\n",
              "      <td>...</td>\n",
              "      <td>...</td>\n",
              "    </tr>\n",
              "    <tr>\n",
              "      <th>2020-07-27</th>\n",
              "      <td>22.1</td>\n",
              "      <td>4.2</td>\n",
              "      <td>1.7</td>\n",
              "    </tr>\n",
              "    <tr>\n",
              "      <th>2020-07-28</th>\n",
              "      <td>21.9</td>\n",
              "      <td>4.5</td>\n",
              "      <td>1.6</td>\n",
              "    </tr>\n",
              "    <tr>\n",
              "      <th>2020-07-29</th>\n",
              "      <td>21.6</td>\n",
              "      <td>3.2</td>\n",
              "      <td>1.0</td>\n",
              "    </tr>\n",
              "    <tr>\n",
              "      <th>2020-07-30</th>\n",
              "      <td>22.9</td>\n",
              "      <td>9.7</td>\n",
              "      <td>2.4</td>\n",
              "    </tr>\n",
              "    <tr>\n",
              "      <th>2020-07-31</th>\n",
              "      <td>25.7</td>\n",
              "      <td>4.8</td>\n",
              "      <td>2.5</td>\n",
              "    </tr>\n",
              "  </tbody>\n",
              "</table>\n",
              "<p>3653 rows × 3 columns</p>\n",
              "</div>"
            ],
            "text/plain": [
              "            평균기온  최대풍속  평균풍속\n",
              "일시                          \n",
              "2010-08-01  28.7   8.3   3.4\n",
              "2010-08-02  25.2   8.7   3.8\n",
              "2010-08-03  22.1   6.3   2.9\n",
              "2010-08-04  25.3   6.6   4.2\n",
              "2010-08-05  27.2   9.1   5.6\n",
              "...          ...   ...   ...\n",
              "2020-07-27  22.1   4.2   1.7\n",
              "2020-07-28  21.9   4.5   1.6\n",
              "2020-07-29  21.6   3.2   1.0\n",
              "2020-07-30  22.9   9.7   2.4\n",
              "2020-07-31  25.7   4.8   2.5\n",
              "\n",
              "[3653 rows x 3 columns]"
            ]
          },
          "metadata": {},
          "execution_count": 47
        }
      ]
    },
    {
      "cell_type": "code",
      "metadata": {
        "colab": {
          "base_uri": "https://localhost:8080/"
        },
        "id": "k0bUM9WbBEJc",
        "outputId": "17e3ecd0-ab77-4350-ba63-e6398d5fe844"
      },
      "source": [
        "print(weather.head(3))\n",
        "print('weather 데이터의 shape :', weather.shape)"
      ],
      "execution_count": null,
      "outputs": [
        {
          "output_type": "stream",
          "name": "stdout",
          "text": [
            "            평균기온  최대풍속  평균풍속\n",
            "일시                          \n",
            "2010-08-01  28.7   8.3   3.4\n",
            "2010-08-02  25.2   8.7   3.8\n",
            "2010-08-03  22.1   6.3   2.9\n",
            "weather 데이터의 shape : (3653, 3)\n"
          ]
        }
      ]
    },
    {
      "cell_type": "code",
      "metadata": {
        "colab": {
          "base_uri": "https://localhost:8080/"
        },
        "id": "4VF9apnoBHW8",
        "outputId": "476c1ccf-a28d-4b0b-ce7b-e18f39f705a5"
      },
      "source": [
        "print(weather.describe())"
      ],
      "execution_count": null,
      "outputs": [
        {
          "output_type": "stream",
          "name": "stdout",
          "text": [
            "              평균기온         최대풍속         평균풍속\n",
            "count  3653.000000  3649.000000  3647.000000\n",
            "mean     12.942102     7.911099     3.936441\n",
            "std       8.538507     3.029862     1.888473\n",
            "min      -9.000000     2.000000     0.200000\n",
            "25%       5.400000     5.700000     2.500000\n",
            "50%      13.800000     7.600000     3.600000\n",
            "75%      20.100000     9.700000     5.000000\n",
            "max      31.300000    26.000000    14.900000\n"
          ]
        }
      ]
    },
    {
      "cell_type": "code",
      "metadata": {
        "id": "TMSAGKkcUqBU"
      },
      "source": [
        ""
      ],
      "execution_count": null,
      "outputs": []
    }
  ]
}